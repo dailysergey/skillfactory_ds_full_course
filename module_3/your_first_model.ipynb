{
 "cells": [
  {
   "cell_type": "markdown",
   "metadata": {},
   "source": [
    "# Загрузка Pandas и очистка данных"
   ]
  },
  {
   "cell_type": "code",
   "execution_count": 1,
   "metadata": {},
   "outputs": [],
   "source": [
    "import pandas as pd"
   ]
  },
  {
   "cell_type": "code",
   "execution_count": 3,
   "metadata": {},
   "outputs": [],
   "source": [
    "df = pd.read_csv('../data/main_task.csv')"
   ]
  },
  {
   "cell_type": "code",
   "execution_count": null,
   "metadata": {},
   "outputs": [],
   "source": [
    "# Ваш код по очистке данных и генерации новых признаков\n",
    "# При необходимости добавьте ячейки"
   ]
  },
  {
   "cell_type": "code",
   "execution_count": 12,
   "metadata": {},
   "outputs": [
    {
     "output_type": "execute_result",
     "data": {
      "text/plain": [
       "      Restaurant_id    City  \\\n",
       "39294       id_9647   Paris   \n",
       "11685      id_13191   Paris   \n",
       "6273         id_276  Krakow   \n",
       "5550        id_6181  Madrid   \n",
       "16976       id_5061  Berlin   \n",
       "16916       id_2031  Madrid   \n",
       "37034       id_5024    Rome   \n",
       "16690      id_16004  London   \n",
       "12552       id_5425  London   \n",
       "30657       id_3881  London   \n",
       "\n",
       "                                           Cuisine Style  Ranking  Rating  \\\n",
       "39294                                                NaN   9649.0     4.5   \n",
       "11685                                                NaN  13193.0     3.5   \n",
       "6273   ['Polish', 'American', 'European', 'Vegetarian...    277.0     4.0   \n",
       "5550                                                 NaN   6184.0     3.5   \n",
       "16976                                                NaN   5063.0     4.0   \n",
       "16916                                                NaN   2033.0     4.0   \n",
       "37034                                                NaN   5025.0     5.0   \n",
       "16690                                                NaN  16016.0     2.0   \n",
       "12552              ['Middle Eastern', 'Cafe', 'British']   5434.0     4.5   \n",
       "30657  ['Bar', 'British', 'Pub', 'Gastropub', 'Vegeta...   3888.0     4.5   \n",
       "\n",
       "      Price Range  Number of Reviews  \\\n",
       "39294         NaN                4.0   \n",
       "11685         NaN                7.0   \n",
       "6273     $$ - $$$               85.0   \n",
       "5550          NaN               11.0   \n",
       "16976         NaN                NaN   \n",
       "16916         NaN              128.0   \n",
       "37034         NaN                5.0   \n",
       "16690         NaN                4.0   \n",
       "12552           $               67.0   \n",
       "30657    $$ - $$$               25.0   \n",
       "\n",
       "                                                 Reviews  \\\n",
       "39294  [['Excellent baker in area with high competit....   \n",
       "11685  [['great views, nice food at reasonable price....   \n",
       "6273   [['Enjoyed it', 'Very nice pit stop to have so...   \n",
       "5550            [['Fresh and friendly'], ['06/27/2015']]   \n",
       "16976  [['Great kebabs and a huge menu'], ['01/17/201...   \n",
       "16916    [['Anti-customer \"Gastrobar\"'], ['09/25/2017']]   \n",
       "37034            [['Amazing ice cream'], ['07/14/2017']]   \n",
       "16690  [['Very poor, take a picnic to the park or go....   \n",
       "12552  [['Great Breakfast!', 'Friday special'], ['11/...   \n",
       "30657  [['Good staff and food', 'Must visit!'], ['11/...   \n",
       "\n",
       "                                                  URL_TA      ID_TA  \n",
       "39294  /Restaurant_Review-g187147-d8520168-Reviews-Le...   d8520168  \n",
       "11685  /Restaurant_Review-g187147-d1091107-Reviews-Le...   d1091107  \n",
       "6273   /Restaurant_Review-g274772-d4844749-Reviews-Av...   d4844749  \n",
       "5550   /Restaurant_Review-g187514-d5491218-Reviews-El...   d5491218  \n",
       "16976  /Restaurant_Review-g187323-d12010133-Reviews-M...  d12010133  \n",
       "16916  /Restaurant_Review-g187514-d3877804-Reviews-Re...   d3877804  \n",
       "37034  /Restaurant_Review-g187791-d12347855-Reviews-G...  d12347855  \n",
       "16690  /Restaurant_Review-g186338-d1017669-Reviews-Pa...   d1017669  \n",
       "12552  /Restaurant_Review-g186338-d2390100-Reviews-Ba...   d2390100  \n",
       "30657  /Restaurant_Review-g186338-d11693189-Reviews-I...  d11693189  "
      ],
      "text/html": "<div>\n<style scoped>\n    .dataframe tbody tr th:only-of-type {\n        vertical-align: middle;\n    }\n\n    .dataframe tbody tr th {\n        vertical-align: top;\n    }\n\n    .dataframe thead th {\n        text-align: right;\n    }\n</style>\n<table border=\"1\" class=\"dataframe\">\n  <thead>\n    <tr style=\"text-align: right;\">\n      <th></th>\n      <th>Restaurant_id</th>\n      <th>City</th>\n      <th>Cuisine Style</th>\n      <th>Ranking</th>\n      <th>Rating</th>\n      <th>Price Range</th>\n      <th>Number of Reviews</th>\n      <th>Reviews</th>\n      <th>URL_TA</th>\n      <th>ID_TA</th>\n    </tr>\n  </thead>\n  <tbody>\n    <tr>\n      <th>39294</th>\n      <td>id_9647</td>\n      <td>Paris</td>\n      <td>NaN</td>\n      <td>9649.0</td>\n      <td>4.5</td>\n      <td>NaN</td>\n      <td>4.0</td>\n      <td>[['Excellent baker in area with high competit....</td>\n      <td>/Restaurant_Review-g187147-d8520168-Reviews-Le...</td>\n      <td>d8520168</td>\n    </tr>\n    <tr>\n      <th>11685</th>\n      <td>id_13191</td>\n      <td>Paris</td>\n      <td>NaN</td>\n      <td>13193.0</td>\n      <td>3.5</td>\n      <td>NaN</td>\n      <td>7.0</td>\n      <td>[['great views, nice food at reasonable price....</td>\n      <td>/Restaurant_Review-g187147-d1091107-Reviews-Le...</td>\n      <td>d1091107</td>\n    </tr>\n    <tr>\n      <th>6273</th>\n      <td>id_276</td>\n      <td>Krakow</td>\n      <td>['Polish', 'American', 'European', 'Vegetarian...</td>\n      <td>277.0</td>\n      <td>4.0</td>\n      <td>$$ - $$$</td>\n      <td>85.0</td>\n      <td>[['Enjoyed it', 'Very nice pit stop to have so...</td>\n      <td>/Restaurant_Review-g274772-d4844749-Reviews-Av...</td>\n      <td>d4844749</td>\n    </tr>\n    <tr>\n      <th>5550</th>\n      <td>id_6181</td>\n      <td>Madrid</td>\n      <td>NaN</td>\n      <td>6184.0</td>\n      <td>3.5</td>\n      <td>NaN</td>\n      <td>11.0</td>\n      <td>[['Fresh and friendly'], ['06/27/2015']]</td>\n      <td>/Restaurant_Review-g187514-d5491218-Reviews-El...</td>\n      <td>d5491218</td>\n    </tr>\n    <tr>\n      <th>16976</th>\n      <td>id_5061</td>\n      <td>Berlin</td>\n      <td>NaN</td>\n      <td>5063.0</td>\n      <td>4.0</td>\n      <td>NaN</td>\n      <td>NaN</td>\n      <td>[['Great kebabs and a huge menu'], ['01/17/201...</td>\n      <td>/Restaurant_Review-g187323-d12010133-Reviews-M...</td>\n      <td>d12010133</td>\n    </tr>\n    <tr>\n      <th>16916</th>\n      <td>id_2031</td>\n      <td>Madrid</td>\n      <td>NaN</td>\n      <td>2033.0</td>\n      <td>4.0</td>\n      <td>NaN</td>\n      <td>128.0</td>\n      <td>[['Anti-customer \"Gastrobar\"'], ['09/25/2017']]</td>\n      <td>/Restaurant_Review-g187514-d3877804-Reviews-Re...</td>\n      <td>d3877804</td>\n    </tr>\n    <tr>\n      <th>37034</th>\n      <td>id_5024</td>\n      <td>Rome</td>\n      <td>NaN</td>\n      <td>5025.0</td>\n      <td>5.0</td>\n      <td>NaN</td>\n      <td>5.0</td>\n      <td>[['Amazing ice cream'], ['07/14/2017']]</td>\n      <td>/Restaurant_Review-g187791-d12347855-Reviews-G...</td>\n      <td>d12347855</td>\n    </tr>\n    <tr>\n      <th>16690</th>\n      <td>id_16004</td>\n      <td>London</td>\n      <td>NaN</td>\n      <td>16016.0</td>\n      <td>2.0</td>\n      <td>NaN</td>\n      <td>4.0</td>\n      <td>[['Very poor, take a picnic to the park or go....</td>\n      <td>/Restaurant_Review-g186338-d1017669-Reviews-Pa...</td>\n      <td>d1017669</td>\n    </tr>\n    <tr>\n      <th>12552</th>\n      <td>id_5425</td>\n      <td>London</td>\n      <td>['Middle Eastern', 'Cafe', 'British']</td>\n      <td>5434.0</td>\n      <td>4.5</td>\n      <td>$</td>\n      <td>67.0</td>\n      <td>[['Great Breakfast!', 'Friday special'], ['11/...</td>\n      <td>/Restaurant_Review-g186338-d2390100-Reviews-Ba...</td>\n      <td>d2390100</td>\n    </tr>\n    <tr>\n      <th>30657</th>\n      <td>id_3881</td>\n      <td>London</td>\n      <td>['Bar', 'British', 'Pub', 'Gastropub', 'Vegeta...</td>\n      <td>3888.0</td>\n      <td>4.5</td>\n      <td>$$ - $$$</td>\n      <td>25.0</td>\n      <td>[['Good staff and food', 'Must visit!'], ['11/...</td>\n      <td>/Restaurant_Review-g186338-d11693189-Reviews-I...</td>\n      <td>d11693189</td>\n    </tr>\n  </tbody>\n</table>\n</div>"
     },
     "metadata": {},
     "execution_count": 12
    }
   ],
   "source": [
    "df.sample(10)"
   ]
  },
  {
   "cell_type": "markdown",
   "metadata": {},
   "source": [
    "# Разбиваем датафрейм на части, необходимые для обучения и тестирования модели"
   ]
  },
  {
   "cell_type": "code",
   "execution_count": 19,
   "metadata": {},
   "outputs": [
    {
     "output_type": "stream",
     "name": "stdout",
     "text": [
      "$$ - $$$\nFrench\nInternational\nEuropean\n"
     ]
    }
   ],
   "source": [
    "import requests\n",
    "from bs4 import BeautifulSoup\n",
    "relative_url = df.URL_TA[0]\n",
    "url = f'https://www.tripadvisor.com/{relative_url}'\n",
    "r = requests.get(url)\n",
    "soup = BeautifulSoup(r.text, 'html.parser')\n",
    "\n",
    "for item in soup.findAll(\"a\", class_='_2mn01bsa'):\n",
    "    print(item.text)"
   ]
  },
  {
   "cell_type": "code",
   "execution_count": 16,
   "metadata": {},
   "outputs": [
    {
     "output_type": "execute_result",
     "data": {
      "text/plain": [
       "'$$ - $$$'"
      ]
     },
     "metadata": {},
     "execution_count": 16
    }
   ],
   "source": [
    "money"
   ]
  },
  {
   "cell_type": "code",
   "execution_count": 4,
   "metadata": {},
   "outputs": [],
   "source": [
    "# Х - данные с информацией о ресторанах, у - целевая переменная (рейтинги ресторанов)\n",
    "X = df.drop(['Restaurant_id', 'Rating'], axis = 1)\n",
    "y = df['Rating']"
   ]
  },
  {
   "cell_type": "code",
   "execution_count": 5,
   "metadata": {},
   "outputs": [],
   "source": [
    "# Загружаем специальный инструмент для разбивки:\n",
    "from sklearn.model_selection import train_test_split"
   ]
  },
  {
   "cell_type": "code",
   "execution_count": 6,
   "metadata": {},
   "outputs": [],
   "source": [
    "# Наборы данных с меткой \"train\" будут использоваться для обучения модели, \"test\" - для тестирования.\n",
    "# Для тестирования мы будем использовать 25% от исходного датасета.\n",
    "X_train, X_test, y_train, y_test = train_test_split(X, y, test_size=0.25)"
   ]
  },
  {
   "cell_type": "markdown",
   "metadata": {},
   "source": [
    "# Создаём, обучаем и тестируем модель"
   ]
  },
  {
   "cell_type": "code",
   "execution_count": 7,
   "metadata": {},
   "outputs": [],
   "source": [
    "# Импортируем необходимые библиотеки:\n",
    "from sklearn.ensemble import RandomForestRegressor # инструмент для создания и обучения модели\n",
    "from sklearn import metrics # инструменты для оценки точности модели"
   ]
  },
  {
   "cell_type": "code",
   "execution_count": 8,
   "metadata": {},
   "outputs": [
    {
     "output_type": "error",
     "ename": "ValueError",
     "evalue": "could not convert string to float: 'Madrid'",
     "traceback": [
      "\u001b[0;31m---------------------------------------------------------------------------\u001b[0m",
      "\u001b[0;31mValueError\u001b[0m                                Traceback (most recent call last)",
      "\u001b[0;32m<ipython-input-8-d417683147ce>\u001b[0m in \u001b[0;36m<module>\u001b[0;34m\u001b[0m\n\u001b[1;32m      3\u001b[0m \u001b[0;34m\u001b[0m\u001b[0m\n\u001b[1;32m      4\u001b[0m \u001b[0;31m# Обучаем модель на тестовом наборе данных\u001b[0m\u001b[0;34m\u001b[0m\u001b[0;34m\u001b[0m\u001b[0;34m\u001b[0m\u001b[0m\n\u001b[0;32m----> 5\u001b[0;31m \u001b[0mregr\u001b[0m\u001b[0;34m.\u001b[0m\u001b[0mfit\u001b[0m\u001b[0;34m(\u001b[0m\u001b[0mX_train\u001b[0m\u001b[0;34m,\u001b[0m \u001b[0my_train\u001b[0m\u001b[0;34m)\u001b[0m\u001b[0;34m\u001b[0m\u001b[0;34m\u001b[0m\u001b[0m\n\u001b[0m\u001b[1;32m      6\u001b[0m \u001b[0;34m\u001b[0m\u001b[0m\n\u001b[1;32m      7\u001b[0m \u001b[0;31m# Используем обученную модель для предсказания рейтинга ресторанов в тестовой выборке.\u001b[0m\u001b[0;34m\u001b[0m\u001b[0;34m\u001b[0m\u001b[0;34m\u001b[0m\u001b[0m\n",
      "\u001b[0;32m~/Library/Python/3.7/lib/python/site-packages/sklearn/ensemble/_forest.py\u001b[0m in \u001b[0;36mfit\u001b[0;34m(self, X, y, sample_weight)\u001b[0m\n\u001b[1;32m    293\u001b[0m         \"\"\"\n\u001b[1;32m    294\u001b[0m         \u001b[0;31m# Validate or convert input data\u001b[0m\u001b[0;34m\u001b[0m\u001b[0;34m\u001b[0m\u001b[0;34m\u001b[0m\u001b[0m\n\u001b[0;32m--> 295\u001b[0;31m         \u001b[0mX\u001b[0m \u001b[0;34m=\u001b[0m \u001b[0mcheck_array\u001b[0m\u001b[0;34m(\u001b[0m\u001b[0mX\u001b[0m\u001b[0;34m,\u001b[0m \u001b[0maccept_sparse\u001b[0m\u001b[0;34m=\u001b[0m\u001b[0;34m\"csc\"\u001b[0m\u001b[0;34m,\u001b[0m \u001b[0mdtype\u001b[0m\u001b[0;34m=\u001b[0m\u001b[0mDTYPE\u001b[0m\u001b[0;34m)\u001b[0m\u001b[0;34m\u001b[0m\u001b[0;34m\u001b[0m\u001b[0m\n\u001b[0m\u001b[1;32m    296\u001b[0m         \u001b[0my\u001b[0m \u001b[0;34m=\u001b[0m \u001b[0mcheck_array\u001b[0m\u001b[0;34m(\u001b[0m\u001b[0my\u001b[0m\u001b[0;34m,\u001b[0m \u001b[0maccept_sparse\u001b[0m\u001b[0;34m=\u001b[0m\u001b[0;34m'csc'\u001b[0m\u001b[0;34m,\u001b[0m \u001b[0mensure_2d\u001b[0m\u001b[0;34m=\u001b[0m\u001b[0;32mFalse\u001b[0m\u001b[0;34m,\u001b[0m \u001b[0mdtype\u001b[0m\u001b[0;34m=\u001b[0m\u001b[0;32mNone\u001b[0m\u001b[0;34m)\u001b[0m\u001b[0;34m\u001b[0m\u001b[0;34m\u001b[0m\u001b[0m\n\u001b[1;32m    297\u001b[0m         \u001b[0;32mif\u001b[0m \u001b[0msample_weight\u001b[0m \u001b[0;32mis\u001b[0m \u001b[0;32mnot\u001b[0m \u001b[0;32mNone\u001b[0m\u001b[0;34m:\u001b[0m\u001b[0;34m\u001b[0m\u001b[0;34m\u001b[0m\u001b[0m\n",
      "\u001b[0;32m~/Library/Python/3.7/lib/python/site-packages/sklearn/utils/validation.py\u001b[0m in \u001b[0;36mcheck_array\u001b[0;34m(array, accept_sparse, accept_large_sparse, dtype, order, copy, force_all_finite, ensure_2d, allow_nd, ensure_min_samples, ensure_min_features, warn_on_dtype, estimator)\u001b[0m\n\u001b[1;32m    529\u001b[0m                     \u001b[0marray\u001b[0m \u001b[0;34m=\u001b[0m \u001b[0marray\u001b[0m\u001b[0;34m.\u001b[0m\u001b[0mastype\u001b[0m\u001b[0;34m(\u001b[0m\u001b[0mdtype\u001b[0m\u001b[0;34m,\u001b[0m \u001b[0mcasting\u001b[0m\u001b[0;34m=\u001b[0m\u001b[0;34m\"unsafe\"\u001b[0m\u001b[0;34m,\u001b[0m \u001b[0mcopy\u001b[0m\u001b[0;34m=\u001b[0m\u001b[0;32mFalse\u001b[0m\u001b[0;34m)\u001b[0m\u001b[0;34m\u001b[0m\u001b[0;34m\u001b[0m\u001b[0m\n\u001b[1;32m    530\u001b[0m                 \u001b[0;32melse\u001b[0m\u001b[0;34m:\u001b[0m\u001b[0;34m\u001b[0m\u001b[0;34m\u001b[0m\u001b[0m\n\u001b[0;32m--> 531\u001b[0;31m                     \u001b[0marray\u001b[0m \u001b[0;34m=\u001b[0m \u001b[0mnp\u001b[0m\u001b[0;34m.\u001b[0m\u001b[0masarray\u001b[0m\u001b[0;34m(\u001b[0m\u001b[0marray\u001b[0m\u001b[0;34m,\u001b[0m \u001b[0morder\u001b[0m\u001b[0;34m=\u001b[0m\u001b[0morder\u001b[0m\u001b[0;34m,\u001b[0m \u001b[0mdtype\u001b[0m\u001b[0;34m=\u001b[0m\u001b[0mdtype\u001b[0m\u001b[0;34m)\u001b[0m\u001b[0;34m\u001b[0m\u001b[0;34m\u001b[0m\u001b[0m\n\u001b[0m\u001b[1;32m    532\u001b[0m             \u001b[0;32mexcept\u001b[0m \u001b[0mComplexWarning\u001b[0m\u001b[0;34m:\u001b[0m\u001b[0;34m\u001b[0m\u001b[0;34m\u001b[0m\u001b[0m\n\u001b[1;32m    533\u001b[0m                 raise ValueError(\"Complex data not supported\\n\"\n",
      "\u001b[0;32m~/Library/Python/3.7/lib/python/site-packages/numpy/core/_asarray.py\u001b[0m in \u001b[0;36masarray\u001b[0;34m(a, dtype, order)\u001b[0m\n\u001b[1;32m     83\u001b[0m \u001b[0;34m\u001b[0m\u001b[0m\n\u001b[1;32m     84\u001b[0m     \"\"\"\n\u001b[0;32m---> 85\u001b[0;31m     \u001b[0;32mreturn\u001b[0m \u001b[0marray\u001b[0m\u001b[0;34m(\u001b[0m\u001b[0ma\u001b[0m\u001b[0;34m,\u001b[0m \u001b[0mdtype\u001b[0m\u001b[0;34m,\u001b[0m \u001b[0mcopy\u001b[0m\u001b[0;34m=\u001b[0m\u001b[0;32mFalse\u001b[0m\u001b[0;34m,\u001b[0m \u001b[0morder\u001b[0m\u001b[0;34m=\u001b[0m\u001b[0morder\u001b[0m\u001b[0;34m)\u001b[0m\u001b[0;34m\u001b[0m\u001b[0;34m\u001b[0m\u001b[0m\n\u001b[0m\u001b[1;32m     86\u001b[0m \u001b[0;34m\u001b[0m\u001b[0m\n\u001b[1;32m     87\u001b[0m \u001b[0;34m\u001b[0m\u001b[0m\n",
      "\u001b[0;31mValueError\u001b[0m: could not convert string to float: 'Madrid'"
     ]
    }
   ],
   "source": [
    "# Создаём модель\n",
    "regr = RandomForestRegressor(n_estimators=100)\n",
    "\n",
    "# Обучаем модель на тестовом наборе данных\n",
    "regr.fit(X_train, y_train)\n",
    "\n",
    "# Используем обученную модель для предсказания рейтинга ресторанов в тестовой выборке.\n",
    "# Предсказанные значения записываем в переменную y_pred\n",
    "y_pred = regr.predict(X_test)"
   ]
  },
  {
   "cell_type": "code",
   "execution_count": 9,
   "metadata": {},
   "outputs": [
    {
     "output_type": "error",
     "ename": "NameError",
     "evalue": "name 'y_pred' is not defined",
     "traceback": [
      "\u001b[0;31m---------------------------------------------------------------------------\u001b[0m",
      "\u001b[0;31mNameError\u001b[0m                                 Traceback (most recent call last)",
      "\u001b[0;32m<ipython-input-9-e56e003c1109>\u001b[0m in \u001b[0;36m<module>\u001b[0;34m\u001b[0m\n\u001b[1;32m      1\u001b[0m \u001b[0;31m# Сравниваем предсказанные значения (y_pred) с реальными (y_test), и смотрим насколько они в среднем отличаются\u001b[0m\u001b[0;34m\u001b[0m\u001b[0;34m\u001b[0m\u001b[0;34m\u001b[0m\u001b[0m\n\u001b[1;32m      2\u001b[0m \u001b[0;31m# Метрика называется Mean Absolute Error (MAE) и показывает среднее отклонение предсказанных значений от фактических.\u001b[0m\u001b[0;34m\u001b[0m\u001b[0;34m\u001b[0m\u001b[0;34m\u001b[0m\u001b[0m\n\u001b[0;32m----> 3\u001b[0;31m \u001b[0mprint\u001b[0m\u001b[0;34m(\u001b[0m\u001b[0;34m'MAE:'\u001b[0m\u001b[0;34m,\u001b[0m \u001b[0mmetrics\u001b[0m\u001b[0;34m.\u001b[0m\u001b[0mmean_absolute_error\u001b[0m\u001b[0;34m(\u001b[0m\u001b[0my_test\u001b[0m\u001b[0;34m,\u001b[0m \u001b[0my_pred\u001b[0m\u001b[0;34m)\u001b[0m\u001b[0;34m)\u001b[0m\u001b[0;34m\u001b[0m\u001b[0;34m\u001b[0m\u001b[0m\n\u001b[0m",
      "\u001b[0;31mNameError\u001b[0m: name 'y_pred' is not defined"
     ]
    }
   ],
   "source": [
    "# Сравниваем предсказанные значения (y_pred) с реальными (y_test), и смотрим насколько они в среднем отличаются\n",
    "# Метрика называется Mean Absolute Error (MAE) и показывает среднее отклонение предсказанных значений от фактических.\n",
    "print('MAE:', metrics.mean_absolute_error(y_test, y_pred))"
   ]
  },
  {
   "cell_type": "code",
   "execution_count": null,
   "metadata": {},
   "outputs": [],
   "source": []
  }
 ],
 "metadata": {
  "kernelspec": {
   "name": "Python 3.7.3 64-bit",
   "display_name": "Python 3.7.3 64-bit",
   "metadata": {
    "interpreter": {
     "hash": "31f2aee4e71d21fbe5cf8b01ff0e069b9275f58929596ceb00d14d90e3e16cd6"
    }
   }
  },
  "language_info": {
   "codemirror_mode": {
    "name": "ipython",
    "version": 3
   },
   "file_extension": ".py",
   "mimetype": "text/x-python",
   "name": "python",
   "nbconvert_exporter": "python",
   "pygments_lexer": "ipython3",
   "version": "3.7.3-final"
  }
 },
 "nbformat": 4,
 "nbformat_minor": 2
}