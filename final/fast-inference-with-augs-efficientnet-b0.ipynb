{
 "cells": [
  {
   "cell_type": "markdown",
   "source": [
    "# Notes"
   ],
   "metadata": {
    "papermill": {
     "duration": 0.024861,
     "end_time": "2021-05-25T09:55:11.363039",
     "exception": false,
     "start_time": "2021-05-25T09:55:11.338178",
     "status": "completed"
    },
    "tags": []
   }
  },
  {
   "cell_type": "markdown",
   "source": [
    "In this kenel, I'm going to use a classical **ResneSt50** for bird identification."
   ],
   "metadata": {
    "papermill": {
     "duration": 0.024431,
     "end_time": "2021-05-25T09:55:11.411163",
     "exception": false,
     "start_time": "2021-05-25T09:55:11.386732",
     "status": "completed"
    },
    "tags": []
   }
  },
  {
   "cell_type": "markdown",
   "source": [
    "* The inference is based on these [resnest50 weights](https://www.kaggle.com/kneroma/kkiller-birdclef-models-public). Please, don't forget upvoting the dataset to make it more visible for others\r\n",
    "* The inference pipeline is optimized as much as I can in order to reduce execution time"
   ],
   "metadata": {
    "papermill": {
     "duration": 0.023971,
     "end_time": "2021-05-25T09:55:11.458880",
     "exception": false,
     "start_time": "2021-05-25T09:55:11.434909",
     "status": "completed"
    },
    "tags": []
   }
  },
  {
   "cell_type": "markdown",
   "source": [
    "# Changes to original\r\n",
    "* threshold = 0.15 \r\n",
    "* https://www.kaggle.com/dailysergey/birdcall-resnestsed-effnet-b0-ema-all-th04/"
   ],
   "metadata": {
    "papermill": {
     "duration": 0.023285,
     "end_time": "2021-05-25T09:55:11.599626",
     "exception": false,
     "start_time": "2021-05-25T09:55:11.576341",
     "status": "completed"
    },
    "tags": []
   }
  },
  {
   "cell_type": "markdown",
   "source": [
    "For threshold 0.11\n",
    "* f1        0.701069\n",
    "* prec      0.710556\n",
    "* rec       0.698104\n",
    "* n_true    1.130000\n",
    "* n_pred    1.015000\n",
    "* n         0.717917\n",
    "\n",
    "\n",
    "For threshold 0.15\n",
    "* f1        0.698236\n",
    "* prec      0.708125\n",
    "* rec       0.694354\n",
    "* n_true    1.130000\n",
    "* n_pred    1.007500\n",
    "* n         0.711667\n"
   ],
   "metadata": {
    "papermill": {
     "duration": 0.023201,
     "end_time": "2021-05-25T09:55:11.646104",
     "exception": false,
     "start_time": "2021-05-25T09:55:11.622903",
     "status": "completed"
    },
    "tags": []
   }
  },
  {
   "cell_type": "code",
   "execution_count": 1,
   "source": [
    "!nvidia-smi"
   ],
   "outputs": [
    {
     "output_type": "stream",
     "name": "stdout",
     "text": [
      "Tue May 25 09:55:12 2021       \r\n",
      "+-----------------------------------------------------------------------------+\r\n",
      "| NVIDIA-SMI 450.51.06    Driver Version: 450.51.06    CUDA Version: 11.0     |\r\n",
      "|-------------------------------+----------------------+----------------------+\r\n",
      "| GPU  Name        Persistence-M| Bus-Id        Disp.A | Volatile Uncorr. ECC |\r\n",
      "| Fan  Temp  Perf  Pwr:Usage/Cap|         Memory-Usage | GPU-Util  Compute M. |\r\n",
      "|                               |                      |               MIG M. |\r\n",
      "|===============================+======================+======================|\r\n",
      "|   0  Tesla P100-PCIE...  Off  | 00000000:00:04.0 Off |                    0 |\r\n",
      "| N/A   37C    P0    27W / 250W |      0MiB / 16280MiB |      0%      Default |\r\n",
      "|                               |                      |                  N/A |\r\n",
      "+-------------------------------+----------------------+----------------------+\r\n",
      "                                                                               \r\n",
      "+-----------------------------------------------------------------------------+\r\n",
      "| Processes:                                                                  |\r\n",
      "|  GPU   GI   CI        PID   Type   Process name                  GPU Memory |\r\n",
      "|        ID   ID                                                   Usage      |\r\n",
      "|=============================================================================|\r\n",
      "|  No running processes found                                                 |\r\n",
      "+-----------------------------------------------------------------------------+\r\n"
     ]
    }
   ],
   "metadata": {
    "execution": {
     "iopub.execute_input": "2021-05-25T09:55:11.709315Z",
     "iopub.status.busy": "2021-05-25T09:55:11.698267Z",
     "iopub.status.idle": "2021-05-25T09:55:12.367205Z",
     "shell.execute_reply": "2021-05-25T09:55:12.366638Z",
     "shell.execute_reply.started": "2021-05-25T08:50:24.855726Z"
    },
    "id": "ikMF-nQSdTbF",
    "outputId": "041c6767-86ab-46e4-9b22-a4840121ecca",
    "papermill": {
     "duration": 0.697821,
     "end_time": "2021-05-25T09:55:12.367348",
     "exception": false,
     "start_time": "2021-05-25T09:55:11.669527",
     "status": "completed"
    },
    "tags": []
   }
  },
  {
   "cell_type": "code",
   "execution_count": 2,
   "source": [
    "try:\r\n",
    "    import resnest\r\n",
    "except ModuleNotFoundError:\r\n",
    "    !pip install -q \"../input/resnest50-fast-package/resnest-0.0.6b20200701/resnest\""
   ],
   "outputs": [],
   "metadata": {
    "execution": {
     "iopub.execute_input": "2021-05-25T09:55:12.420658Z",
     "iopub.status.busy": "2021-05-25T09:55:12.419923Z",
     "iopub.status.idle": "2021-05-25T09:55:40.705546Z",
     "shell.execute_reply": "2021-05-25T09:55:40.705023Z",
     "shell.execute_reply.started": "2021-05-25T08:50:25.536678Z"
    },
    "papermill": {
     "duration": 28.314199,
     "end_time": "2021-05-25T09:55:40.705696",
     "exception": false,
     "start_time": "2021-05-25T09:55:12.391497",
     "status": "completed"
    },
    "tags": []
   }
  },
  {
   "cell_type": "code",
   "execution_count": 3,
   "source": [
    "import sys\r\n",
    "sys.path.append('../input/timm-pytorch-image-models/pytorch-image-models-master')\r\n",
    "sys.path.append('../input/efficientnet-pytorch/EfficientNet-PyTorch/EfficientNet-PyTorch-master')"
   ],
   "outputs": [],
   "metadata": {
    "execution": {
     "iopub.execute_input": "2021-05-25T09:55:40.759282Z",
     "iopub.status.busy": "2021-05-25T09:55:40.758142Z",
     "iopub.status.idle": "2021-05-25T09:55:40.760590Z",
     "shell.execute_reply": "2021-05-25T09:55:40.760118Z",
     "shell.execute_reply.started": "2021-05-25T08:50:54.008204Z"
    },
    "papermill": {
     "duration": 0.030259,
     "end_time": "2021-05-25T09:55:40.760689",
     "exception": false,
     "start_time": "2021-05-25T09:55:40.730430",
     "status": "completed"
    },
    "tags": []
   }
  },
  {
   "cell_type": "code",
   "execution_count": 4,
   "source": [
    "#base\r\n",
    "import numpy as np\r\n",
    "import re\r\n",
    "import random\r\n",
    "import time\r\n",
    "\r\n",
    "# sound\r\n",
    "import librosa as lb\r\n",
    "import soundfile as sf\r\n",
    "import pandas as pd\r\n",
    "\r\n",
    "import cv2\r\n",
    "from pathlib import Path\r\n",
    "\r\n",
    "#models\r\n",
    "import timm\r\n",
    "\r\n",
    "# Torch\r\n",
    "import torch\r\n",
    "from torch import nn\r\n",
    "from  torch.utils.data import Dataset, DataLoader\r\n",
    "from efficientnet_pytorch import EfficientNet\r\n",
    "from resnest.torch import resnest50\r\n",
    "\r\n",
    "\r\n",
    "from tqdm.notebook import tqdm"
   ],
   "outputs": [],
   "metadata": {
    "_cell_guid": "b1076dfc-b9ad-4769-8c92-a6c4dae69d19",
    "_uuid": "8f2839f25d086af736a60e9eeb907d3b93b6e0e5",
    "execution": {
     "iopub.execute_input": "2021-05-25T09:55:40.812939Z",
     "iopub.status.busy": "2021-05-25T09:55:40.812226Z",
     "iopub.status.idle": "2021-05-25T09:55:46.132472Z",
     "shell.execute_reply": "2021-05-25T09:55:46.131167Z",
     "shell.execute_reply.started": "2021-05-25T08:51:11.824079Z"
    },
    "id": "kSCcqxf0c_O7",
    "papermill": {
     "duration": 5.348347,
     "end_time": "2021-05-25T09:55:46.132618",
     "exception": false,
     "start_time": "2021-05-25T09:55:40.784271",
     "status": "completed"
    },
    "tags": []
   }
  },
  {
   "cell_type": "markdown",
   "source": [
    "# Configs"
   ],
   "metadata": {
    "papermill": {
     "duration": 0.025101,
     "end_time": "2021-05-25T09:55:46.182295",
     "exception": false,
     "start_time": "2021-05-25T09:55:46.157194",
     "status": "completed"
    },
    "tags": []
   }
  },
  {
   "cell_type": "code",
   "execution_count": 5,
   "source": [
    "NUM_CLASSES = 397\r\n",
    "SR = 32_000\r\n",
    "DURATION = 5\r\n",
    "\r\n",
    "THRESH = 0.55\r\n",
    "\r\n",
    "\r\n",
    "DEVICE = torch.device(\"cuda\" if torch.cuda.is_available() else \"cpu\")\r\n",
    "print(\"DEVICE:\", DEVICE)\r\n",
    "\r\n",
    "TEST_AUDIO_ROOT = Path(\"../input/birdclef-2021/test_soundscapes\")\r\n",
    "SAMPLE_SUB_PATH = \"../input/birdclef-2021/sample_submission.csv\"\r\n",
    "TARGET_PATH = None\r\n",
    "    \r\n",
    "if not len(list(TEST_AUDIO_ROOT.glob(\"*.ogg\"))):\r\n",
    "    TEST_AUDIO_ROOT = Path(\"../input/birdclef-2021/train_soundscapes\")\r\n",
    "    SAMPLE_SUB_PATH = None\r\n",
    "    # SAMPLE_SUB_PATH = \"../input/birdclef-2021/sample_submission.csv\"\r\n",
    "    TARGET_PATH = Path(\"../input/birdclef-2021/train_soundscape_labels.csv\")"
   ],
   "outputs": [
    {
     "output_type": "stream",
     "name": "stdout",
     "text": [
      "DEVICE: cuda\n"
     ]
    }
   ],
   "metadata": {
    "execution": {
     "iopub.execute_input": "2021-05-25T09:55:46.304081Z",
     "iopub.status.busy": "2021-05-25T09:55:46.303402Z",
     "iopub.status.idle": "2021-05-25T09:55:46.312756Z",
     "shell.execute_reply": "2021-05-25T09:55:46.312315Z",
     "shell.execute_reply.started": "2021-05-25T08:51:11.833133Z"
    },
    "id": "rJhYZVIDc_O9",
    "papermill": {
     "duration": 0.106747,
     "end_time": "2021-05-25T09:55:46.312866",
     "exception": false,
     "start_time": "2021-05-25T09:55:46.206119",
     "status": "completed"
    },
    "tags": []
   }
  },
  {
   "cell_type": "markdown",
   "source": [
    "# Data"
   ],
   "metadata": {
    "papermill": {
     "duration": 0.024077,
     "end_time": "2021-05-25T09:55:46.361444",
     "exception": false,
     "start_time": "2021-05-25T09:55:46.337367",
     "status": "completed"
    },
    "tags": []
   }
  },
  {
   "cell_type": "code",
   "execution_count": 6,
   "source": [
    "class MelSpecComputer:\r\n",
    "    def __init__(self, sr, n_mels, fmin, fmax, **kwargs):\r\n",
    "        self.sr = sr\r\n",
    "        self.n_mels = n_mels\r\n",
    "        self.fmin = fmin\r\n",
    "        self.fmax = fmax\r\n",
    "        kwargs[\"n_fft\"] = kwargs.get(\"n_fft\", self.sr//10)\r\n",
    "        kwargs[\"hop_length\"] = kwargs.get(\"hop_length\", self.sr//(10*4))\r\n",
    "        self.kwargs = kwargs\r\n",
    "\r\n",
    "    def __call__(self, y):\r\n",
    "\r\n",
    "        melspec = lb.feature.melspectrogram(\r\n",
    "            y, sr=self.sr, n_mels=self.n_mels, fmin=self.fmin, fmax=self.fmax, **self.kwargs,\r\n",
    "        )\r\n",
    "\r\n",
    "        melspec = lb.power_to_db(melspec).astype(np.float32)\r\n",
    "        return melspec"
   ],
   "outputs": [],
   "metadata": {
    "execution": {
     "iopub.execute_input": "2021-05-25T09:55:46.415637Z",
     "iopub.status.busy": "2021-05-25T09:55:46.414977Z",
     "iopub.status.idle": "2021-05-25T09:55:46.418552Z",
     "shell.execute_reply": "2021-05-25T09:55:46.418094Z",
     "shell.execute_reply.started": "2021-05-25T08:51:11.850097Z"
    },
    "id": "4fwNhdbJc_O-",
    "papermill": {
     "duration": 0.033247,
     "end_time": "2021-05-25T09:55:46.418649",
     "exception": false,
     "start_time": "2021-05-25T09:55:46.385402",
     "status": "completed"
    },
    "tags": []
   }
  },
  {
   "cell_type": "code",
   "execution_count": 7,
   "source": [
    "def random_power(images, power = 1.5, c= 0.7):\r\n",
    "    images = images - images.min()\r\n",
    "    images = images/(images.max()+0.0000001)\r\n",
    "    images = images**(random.random()*power + c)\r\n",
    "    return images\r\n",
    "\r\n",
    "def mono_to_color(X, eps=1e-6, mean=None, std=None):\r\n",
    "    mean = mean or X.mean()\r\n",
    "    std = std or X.std()\r\n",
    "    X = (X - mean) / (std + eps)\r\n",
    "    \r\n",
    "    _min, _max = X.min(), X.max()\r\n",
    "\r\n",
    "    if (_max - _min) > eps:\r\n",
    "        V = np.clip(X, _min, _max)\r\n",
    "        V = 255 * (V - _min) / (_max - _min)\r\n",
    "        V = V.astype(np.uint8)\r\n",
    "    else:\r\n",
    "        V = np.zeros_like(X, dtype=np.uint8)\r\n",
    "\r\n",
    "    return V\r\n",
    "\r\n",
    "def crop_or_pad(y, length):\r\n",
    "    if len(y) < length:\r\n",
    "        y = np.concatenate([y, length - np.zeros(len(y))])\r\n",
    "    elif len(y) > length:\r\n",
    "        y = y[:length]\r\n",
    "    return y"
   ],
   "outputs": [],
   "metadata": {
    "execution": {
     "iopub.execute_input": "2021-05-25T09:55:46.474698Z",
     "iopub.status.busy": "2021-05-25T09:55:46.474039Z",
     "iopub.status.idle": "2021-05-25T09:55:46.477529Z",
     "shell.execute_reply": "2021-05-25T09:55:46.477104Z",
     "shell.execute_reply.started": "2021-05-25T08:51:11.859092Z"
    },
    "id": "Nk0haSTIc_O_",
    "papermill": {
     "duration": 0.035203,
     "end_time": "2021-05-25T09:55:46.477624",
     "exception": false,
     "start_time": "2021-05-25T09:55:46.442421",
     "status": "completed"
    },
    "tags": []
   }
  },
  {
   "cell_type": "code",
   "execution_count": 8,
   "source": [
    "class BirdCLEFDataset(Dataset):\r\n",
    "    def __init__(self, data, sr=SR, n_mels=128, fmin=0, fmax=None, duration=DURATION, step=None, res_type=\"kaiser_fast\", resample=True):\r\n",
    "        \r\n",
    "        self.data = data\r\n",
    "        \r\n",
    "        self.sr = sr\r\n",
    "        self.n_mels = n_mels\r\n",
    "        self.fmin = fmin\r\n",
    "        self.fmax = fmax or self.sr//2\r\n",
    "\r\n",
    "        self.duration = duration\r\n",
    "        self.audio_length = self.duration*self.sr\r\n",
    "        self.step = step or self.audio_length\r\n",
    "        \r\n",
    "        self.res_type = res_type\r\n",
    "        self.resample = resample\r\n",
    "\r\n",
    "        self.mel_spec_computer = MelSpecComputer(sr=self.sr, n_mels=self.n_mels, fmin=self.fmin,\r\n",
    "                                                 fmax=self.fmax)\r\n",
    "    def __len__(self):\r\n",
    "        return len(self.data)\r\n",
    "    \r\n",
    "    @staticmethod\r\n",
    "    def normalize(image):\r\n",
    "        image = image.astype(\"float32\", copy=False) / 255.0\r\n",
    "        image = np.stack([image, image, image])\r\n",
    "        return image\r\n",
    "    \r\n",
    "    def audio_to_image(self, audio):\r\n",
    "        melspec = self.mel_spec_computer(audio) \r\n",
    "        image = random_power(melspec, power = 2, c= 0.7)\r\n",
    "        image = mono_to_color(image)\r\n",
    "        image = self.normalize(image)\r\n",
    "        return image\r\n",
    "\r\n",
    "    def read_file(self, filepath):\r\n",
    "        audio, orig_sr = sf.read(filepath, dtype=\"float32\")\r\n",
    "\r\n",
    "        if self.resample and orig_sr != self.sr:\r\n",
    "            audio = lb.resample(audio, orig_sr, self.sr, res_type=self.res_type)\r\n",
    "          \r\n",
    "        audios = []\r\n",
    "        for i in range(self.audio_length, len(audio) + self.step, self.step):\r\n",
    "            start = max(0, i - self.audio_length)\r\n",
    "            end = start + self.audio_length\r\n",
    "            audios.append(audio[start:end])\r\n",
    "            \r\n",
    "        if len(audios[-1]) < self.audio_length:\r\n",
    "            audios = audios[:-1]\r\n",
    "            \r\n",
    "        images = [self.audio_to_image(audio) for audio in audios]\r\n",
    "        images = np.stack(images)\r\n",
    "        \r\n",
    "        return images\r\n",
    "    \r\n",
    "        \r\n",
    "    def __getitem__(self, idx):\r\n",
    "        return self.read_file(self.data.loc[idx, \"filepath\"])"
   ],
   "outputs": [],
   "metadata": {
    "execution": {
     "iopub.execute_input": "2021-05-25T09:55:46.539177Z",
     "iopub.status.busy": "2021-05-25T09:55:46.537502Z",
     "iopub.status.idle": "2021-05-25T09:55:46.539787Z",
     "shell.execute_reply": "2021-05-25T09:55:46.540193Z",
     "shell.execute_reply.started": "2021-05-25T08:51:11.873434Z"
    },
    "papermill": {
     "duration": 0.038771,
     "end_time": "2021-05-25T09:55:46.540306",
     "exception": false,
     "start_time": "2021-05-25T09:55:46.501535",
     "status": "completed"
    },
    "tags": []
   }
  },
  {
   "cell_type": "code",
   "execution_count": 9,
   "source": [
    "data = pd.DataFrame(\r\n",
    "     [(path.stem, *path.stem.split(\"_\"), path) for path in Path(TEST_AUDIO_ROOT).glob(\"*.ogg\")],\r\n",
    "    columns = [\"filename\", \"id\", \"site\", \"date\", \"filepath\"]\r\n",
    ")\r\n",
    "print(data.shape)\r\n",
    "data.head()"
   ],
   "outputs": [
    {
     "output_type": "stream",
     "name": "stdout",
     "text": [
      "(20, 5)\n"
     ]
    },
    {
     "output_type": "execute_result",
     "data": {
      "text/html": [
       "<div>\n",
       "<style scoped>\n",
       "    .dataframe tbody tr th:only-of-type {\n",
       "        vertical-align: middle;\n",
       "    }\n",
       "\n",
       "    .dataframe tbody tr th {\n",
       "        vertical-align: top;\n",
       "    }\n",
       "\n",
       "    .dataframe thead th {\n",
       "        text-align: right;\n",
       "    }\n",
       "</style>\n",
       "<table border=\"1\" class=\"dataframe\">\n",
       "  <thead>\n",
       "    <tr style=\"text-align: right;\">\n",
       "      <th></th>\n",
       "      <th>filename</th>\n",
       "      <th>id</th>\n",
       "      <th>site</th>\n",
       "      <th>date</th>\n",
       "      <th>filepath</th>\n",
       "    </tr>\n",
       "  </thead>\n",
       "  <tbody>\n",
       "    <tr>\n",
       "      <th>0</th>\n",
       "      <td>20152_SSW_20170805</td>\n",
       "      <td>20152</td>\n",
       "      <td>SSW</td>\n",
       "      <td>20170805</td>\n",
       "      <td>../input/birdclef-2021/train_soundscapes/20152...</td>\n",
       "    </tr>\n",
       "    <tr>\n",
       "      <th>1</th>\n",
       "      <td>57610_COR_20190904</td>\n",
       "      <td>57610</td>\n",
       "      <td>COR</td>\n",
       "      <td>20190904</td>\n",
       "      <td>../input/birdclef-2021/train_soundscapes/57610...</td>\n",
       "    </tr>\n",
       "    <tr>\n",
       "      <th>2</th>\n",
       "      <td>7843_SSW_20170325</td>\n",
       "      <td>7843</td>\n",
       "      <td>SSW</td>\n",
       "      <td>20170325</td>\n",
       "      <td>../input/birdclef-2021/train_soundscapes/7843_...</td>\n",
       "    </tr>\n",
       "    <tr>\n",
       "      <th>3</th>\n",
       "      <td>42907_SSW_20170708</td>\n",
       "      <td>42907</td>\n",
       "      <td>SSW</td>\n",
       "      <td>20170708</td>\n",
       "      <td>../input/birdclef-2021/train_soundscapes/42907...</td>\n",
       "    </tr>\n",
       "    <tr>\n",
       "      <th>4</th>\n",
       "      <td>7019_COR_20190904</td>\n",
       "      <td>7019</td>\n",
       "      <td>COR</td>\n",
       "      <td>20190904</td>\n",
       "      <td>../input/birdclef-2021/train_soundscapes/7019_...</td>\n",
       "    </tr>\n",
       "  </tbody>\n",
       "</table>\n",
       "</div>"
      ],
      "text/plain": [
       "             filename     id site      date  \\\n",
       "0  20152_SSW_20170805  20152  SSW  20170805   \n",
       "1  57610_COR_20190904  57610  COR  20190904   \n",
       "2   7843_SSW_20170325   7843  SSW  20170325   \n",
       "3  42907_SSW_20170708  42907  SSW  20170708   \n",
       "4   7019_COR_20190904   7019  COR  20190904   \n",
       "\n",
       "                                            filepath  \n",
       "0  ../input/birdclef-2021/train_soundscapes/20152...  \n",
       "1  ../input/birdclef-2021/train_soundscapes/57610...  \n",
       "2  ../input/birdclef-2021/train_soundscapes/7843_...  \n",
       "3  ../input/birdclef-2021/train_soundscapes/42907...  \n",
       "4  ../input/birdclef-2021/train_soundscapes/7019_...  "
      ]
     },
     "metadata": {},
     "execution_count": 9
    }
   ],
   "metadata": {
    "execution": {
     "iopub.execute_input": "2021-05-25T09:55:46.591882Z",
     "iopub.status.busy": "2021-05-25T09:55:46.591376Z",
     "iopub.status.idle": "2021-05-25T09:55:46.622321Z",
     "shell.execute_reply": "2021-05-25T09:55:46.622708Z",
     "shell.execute_reply.started": "2021-05-25T08:51:11.895298Z"
    },
    "id": "rVwlOrbxc_PD",
    "outputId": "9b53ec99-634a-4b30-f9b5-75036184482b",
    "papermill": {
     "duration": 0.058855,
     "end_time": "2021-05-25T09:55:46.622819",
     "exception": false,
     "start_time": "2021-05-25T09:55:46.563964",
     "status": "completed"
    },
    "tags": []
   }
  },
  {
   "cell_type": "code",
   "execution_count": 10,
   "source": [
    "df_train = pd.read_csv(\"../input/birdclef-2021/train_metadata.csv\")\r\n",
    "\r\n",
    "LABEL_IDS = {label: label_id for label_id,label in enumerate(sorted(df_train[\"primary_label\"].unique()))}\r\n",
    "INV_LABEL_IDS = {val: key for key,val in LABEL_IDS.items()}"
   ],
   "outputs": [],
   "metadata": {
    "execution": {
     "iopub.execute_input": "2021-05-25T09:55:46.678239Z",
     "iopub.status.busy": "2021-05-25T09:55:46.677714Z",
     "iopub.status.idle": "2021-05-25T09:55:47.100030Z",
     "shell.execute_reply": "2021-05-25T09:55:47.099389Z",
     "shell.execute_reply.started": "2021-05-25T08:51:11.920404Z"
    },
    "papermill": {
     "duration": 0.452822,
     "end_time": "2021-05-25T09:55:47.100182",
     "exception": false,
     "start_time": "2021-05-25T09:55:46.647360",
     "status": "completed"
    },
    "tags": []
   }
  },
  {
   "cell_type": "markdown",
   "source": [
    "# Inference"
   ],
   "metadata": {
    "id": "BNsivZZZc_PG",
    "papermill": {
     "duration": 0.02471,
     "end_time": "2021-05-25T09:55:47.149903",
     "exception": false,
     "start_time": "2021-05-25T09:55:47.125193",
     "status": "completed"
    },
    "tags": []
   }
  },
  {
   "cell_type": "code",
   "execution_count": 11,
   "source": [
    "test_data = BirdCLEFDataset(data=data)\r\n",
    "len(test_data), test_data[0].shape"
   ],
   "outputs": [
    {
     "output_type": "execute_result",
     "data": {
      "text/plain": [
       "(20, (120, 3, 128, 201))"
      ]
     },
     "metadata": {},
     "execution_count": 11
    }
   ],
   "metadata": {
    "execution": {
     "iopub.execute_input": "2021-05-25T09:55:47.204222Z",
     "iopub.status.busy": "2021-05-25T09:55:47.203641Z",
     "iopub.status.idle": "2021-05-25T09:55:50.604509Z",
     "shell.execute_reply": "2021-05-25T09:55:50.605193Z",
     "shell.execute_reply.started": "2021-05-25T08:51:12.151369Z"
    },
    "id": "AzlOErOmc_PH",
    "papermill": {
     "duration": 3.430648,
     "end_time": "2021-05-25T09:55:50.605350",
     "exception": false,
     "start_time": "2021-05-25T09:55:47.174702",
     "status": "completed"
    },
    "tags": []
   }
  },
  {
   "cell_type": "code",
   "execution_count": 12,
   "source": [
    "def get_model(name, num_classes=NUM_CLASSES):\r\n",
    "    \"\"\"\r\n",
    "    Loads a pretrained model. \r\n",
    "    Supports ResNest, ResNext-wsl, EfficientNet, ResNext and ResNet.\r\n",
    "\r\n",
    "    Arguments:\r\n",
    "        name {str} -- Name of the model to load\r\n",
    "\r\n",
    "    Keyword Arguments:\r\n",
    "        num_classes {int} -- Number of classes to use (default: {1})\r\n",
    "\r\n",
    "    Returns:\r\n",
    "        torch model -- Pretrained model\r\n",
    "    \"\"\"\r\n",
    "    if \"resnest\" in name:\r\n",
    "        model = getattr(resnest_torch, name)(pretrained=True)\r\n",
    "    elif \"wsl\" in name:\r\n",
    "        model = torch.hub.load(\"facebookresearch/WSL-Images\", name)\r\n",
    "    elif name.startswith(\"resnext\") or  name.startswith(\"resnet\"):\r\n",
    "        model = torch.hub.load(\"pytorch/vision:v0.6.0\", name, pretrained=True)\r\n",
    "    elif name.startswith(\"tf_efficientnet_b\"):\r\n",
    "        model = getattr(timm.models.efficientnet, name)(pretrained=False)\r\n",
    "    elif \"efficientnet-b\" in name:\r\n",
    "        model = EfficientNet.from_pretrained(name)\r\n",
    "    else:\r\n",
    "        model = pretrainedmodels.__dict__[name](pretrained='imagenet')\r\n",
    "\r\n",
    "    if hasattr(model, \"fc\"):\r\n",
    "        nb_ft = model.fc.in_features\r\n",
    "        model.fc = nn.Linear(nb_ft, num_classes)\r\n",
    "    elif hasattr(model, \"_fc\"):\r\n",
    "        nb_ft = model._fc.in_features\r\n",
    "        model._fc = nn.Linear(nb_ft, num_classes)\r\n",
    "    elif hasattr(model, \"classifier\"):\r\n",
    "        nb_ft = model.classifier.in_features\r\n",
    "        model.classifier = nn.Linear(nb_ft, num_classes)\r\n",
    "    elif hasattr(model, \"last_linear\"):\r\n",
    "        nb_ft = model.last_linear.in_features\r\n",
    "        model.last_linear = nn.Linear(nb_ft, num_classes)\r\n",
    "\r\n",
    "    return model"
   ],
   "outputs": [],
   "metadata": {
    "execution": {
     "iopub.execute_input": "2021-05-25T09:55:50.710260Z",
     "iopub.status.busy": "2021-05-25T09:55:50.709418Z",
     "iopub.status.idle": "2021-05-25T09:55:50.716273Z",
     "shell.execute_reply": "2021-05-25T09:55:50.716694Z",
     "shell.execute_reply.started": "2021-05-25T08:51:15.069008Z"
    },
    "papermill": {
     "duration": 0.064679,
     "end_time": "2021-05-25T09:55:50.716809",
     "exception": false,
     "start_time": "2021-05-25T09:55:50.652130",
     "status": "completed"
    },
    "tags": []
   }
  },
  {
   "cell_type": "code",
   "execution_count": 13,
   "source": [
    "def load_net(checkpoint_path, num_classes=NUM_CLASSES):\r\n",
    "    if \"efficientnet-b0\" in checkpoint_path:\r\n",
    "        net = EfficientNet.from_name('efficientnet-b0', num_classes=num_classes).cuda()\r\n",
    "        #print(net)\r\n",
    "        if hasattr(net, \"fc\"):\r\n",
    "            nb_ft = net.fc.in_features\r\n",
    "            net.fc = nn.Linear(nb_ft, num_classes)\r\n",
    "        elif hasattr(net, \"_fc\"):\r\n",
    "            nb_ft = net._fc.in_features\r\n",
    "            net._fc = nn.Linear(nb_ft, num_classes)\r\n",
    "        elif hasattr(net, \"classifier\"):\r\n",
    "            nb_ft = net.classifier.in_features\r\n",
    "            net.classifier = nn.Linear(nb_ft, num_classes)\r\n",
    "        elif hasattr(net, \"last_linear\"):\r\n",
    "            nb_ft = net.last_linear.in_features\r\n",
    "            net.last_linear = nn.Linear(nb_ft, num_classes)\r\n",
    "    if \"efficientnet-b0-ns\" in checkpoint_path:\r\n",
    "        net = timm.create_model(\"tf_efficientnet_b0_ns\", pretrained=False)\r\n",
    "        net.classifier = nn.Linear(net.classifier.in_features, num_classes)\r\n",
    "    if \"tf_efficientnet_b4\" in checkpoint_path:\r\n",
    "        net = timm.create_model(\"tf_efficientnet_b4\", pretrained=False)\r\n",
    "        net.classifier = nn.Linear(net.classifier.in_features, num_classes)\r\n",
    "    if \"resnest50\" in checkpoint_path:\r\n",
    "        net = resnest50(pretrained=False)\r\n",
    "        net.fc = nn.Linear(net.fc.in_features, num_classes)\r\n",
    "    dummy_device = torch.device(\"cpu\")\r\n",
    "    d = torch.load(checkpoint_path, map_location=dummy_device)\r\n",
    "    for key in list(d.keys()):\r\n",
    "        d[key.replace(\"model.\", \"\")] = d.pop(key)\r\n",
    "    net.load_state_dict(d)\r\n",
    "    net = net.to(DEVICE)\r\n",
    "    net = net.eval()\r\n",
    "    return net"
   ],
   "outputs": [],
   "metadata": {
    "execution": {
     "iopub.execute_input": "2021-05-25T09:55:50.777721Z",
     "iopub.status.busy": "2021-05-25T09:55:50.776485Z",
     "iopub.status.idle": "2021-05-25T09:55:50.779389Z",
     "shell.execute_reply": "2021-05-25T09:55:50.778986Z",
     "shell.execute_reply.started": "2021-05-25T08:51:15.084437Z"
    },
    "papermill": {
     "duration": 0.037262,
     "end_time": "2021-05-25T09:55:50.779490",
     "exception": false,
     "start_time": "2021-05-25T09:55:50.742228",
     "status": "completed"
    },
    "tags": []
   }
  },
  {
   "cell_type": "code",
   "execution_count": 14,
   "source": [
    "\r\n",
    "checkpoint_paths = [\r\n",
    "    Path(\"../input/pytorch-models-birdclef/birdclef_efficientnet-b0_fold0_epoch_17_f1_val_05482_with_augs.pth\"),\r\n",
    "]\r\n",
    "\r\n",
    "\r\n",
    "nets = [\r\n",
    "        load_net(checkpoint_path.as_posix()) for checkpoint_path in checkpoint_paths\r\n",
    "]"
   ],
   "outputs": [],
   "metadata": {
    "execution": {
     "iopub.execute_input": "2021-05-25T09:55:50.833703Z",
     "iopub.status.busy": "2021-05-25T09:55:50.833186Z",
     "iopub.status.idle": "2021-05-25T09:55:55.411609Z",
     "shell.execute_reply": "2021-05-25T09:55:55.410599Z",
     "shell.execute_reply.started": "2021-05-25T08:51:15.104004Z"
    },
    "id": "ayVLRTzLc_PI",
    "papermill": {
     "duration": 4.60733,
     "end_time": "2021-05-25T09:55:55.411751",
     "exception": false,
     "start_time": "2021-05-25T09:55:50.804421",
     "status": "completed"
    },
    "tags": []
   }
  },
  {
   "cell_type": "code",
   "execution_count": 15,
   "source": [
    "@torch.no_grad()\r\n",
    "def get_thresh_preds(out, thresh=None):\r\n",
    "    thresh = thresh or THRESH\r\n",
    "    o = (-out).argsort(1)\r\n",
    "    npreds = (out > thresh).sum(1)\r\n",
    "    preds = []\r\n",
    "    for oo, npred in zip(o, npreds):\r\n",
    "        preds.append(oo[:npred].cpu().numpy().tolist())\r\n",
    "    return preds"
   ],
   "outputs": [],
   "metadata": {
    "execution": {
     "iopub.execute_input": "2021-05-25T09:55:55.469650Z",
     "iopub.status.busy": "2021-05-25T09:55:55.467919Z",
     "iopub.status.idle": "2021-05-25T09:55:55.470312Z",
     "shell.execute_reply": "2021-05-25T09:55:55.470738Z",
     "shell.execute_reply.started": "2021-05-25T08:51:19.794787Z"
    },
    "papermill": {
     "duration": 0.033195,
     "end_time": "2021-05-25T09:55:55.470865",
     "exception": false,
     "start_time": "2021-05-25T09:55:55.437670",
     "status": "completed"
    },
    "tags": []
   }
  },
  {
   "cell_type": "code",
   "execution_count": 16,
   "source": [
    "def get_bird_names(preds):\r\n",
    "    bird_names = []\r\n",
    "    for pred in preds:\r\n",
    "        if not pred:\r\n",
    "            bird_names.append(\"nocall\")\r\n",
    "        else:\r\n",
    "            bird_names.append(\" \".join([INV_LABEL_IDS[bird_id] for bird_id in pred]))\r\n",
    "    return bird_names"
   ],
   "outputs": [],
   "metadata": {
    "execution": {
     "iopub.execute_input": "2021-05-25T09:55:55.525581Z",
     "iopub.status.busy": "2021-05-25T09:55:55.524905Z",
     "iopub.status.idle": "2021-05-25T09:55:55.528497Z",
     "shell.execute_reply": "2021-05-25T09:55:55.528024Z",
     "shell.execute_reply.started": "2021-05-25T08:51:19.81575Z"
    },
    "papermill": {
     "duration": 0.03263,
     "end_time": "2021-05-25T09:55:55.528610",
     "exception": false,
     "start_time": "2021-05-25T09:55:55.495980",
     "status": "completed"
    },
    "tags": []
   }
  },
  {
   "cell_type": "code",
   "execution_count": 17,
   "source": [
    "def predict(nets, test_data, names=True):\r\n",
    "    preds = []\r\n",
    "    with torch.no_grad():\r\n",
    "        for idx in  tqdm(list(range(len(test_data)))):\r\n",
    "            xb = torch.from_numpy(test_data[idx]).to(DEVICE)\r\n",
    "            pred = 0.\r\n",
    "            for net in nets:\r\n",
    "                o = net(xb)\r\n",
    "                o = torch.sigmoid(o)\r\n",
    "\r\n",
    "                pred += o\r\n",
    "\r\n",
    "            pred /= len(nets)\r\n",
    "            \r\n",
    "            if names:\r\n",
    "                pred = get_bird_names(get_thresh_preds(pred))\r\n",
    "\r\n",
    "            preds.append(pred)\r\n",
    "    return preds"
   ],
   "outputs": [],
   "metadata": {
    "execution": {
     "iopub.execute_input": "2021-05-25T09:55:55.585938Z",
     "iopub.status.busy": "2021-05-25T09:55:55.584243Z",
     "iopub.status.idle": "2021-05-25T09:55:55.586561Z",
     "shell.execute_reply": "2021-05-25T09:55:55.586941Z",
     "shell.execute_reply.started": "2021-05-25T08:51:19.830071Z"
    },
    "papermill": {
     "duration": 0.033471,
     "end_time": "2021-05-25T09:55:55.587050",
     "exception": false,
     "start_time": "2021-05-25T09:55:55.553579",
     "status": "completed"
    },
    "tags": []
   }
  },
  {
   "cell_type": "code",
   "execution_count": 18,
   "source": [
    "pred_probas = predict(nets, test_data, names=False)\r\n",
    "print(len(pred_probas))"
   ],
   "outputs": [
    {
     "output_type": "display_data",
     "data": {
      "application/vnd.jupyter.widget-view+json": {
       "model_id": "091393813b44440b9e36570530c01c62",
       "version_major": 2,
       "version_minor": 0
      },
      "text/plain": [
       "  0%|          | 0/20 [00:00<?, ?it/s]"
      ]
     },
     "metadata": {}
    },
    {
     "output_type": "stream",
     "name": "stdout",
     "text": [
      "20\n"
     ]
    }
   ],
   "metadata": {
    "execution": {
     "iopub.execute_input": "2021-05-25T09:55:55.645473Z",
     "iopub.status.busy": "2021-05-25T09:55:55.644651Z",
     "iopub.status.idle": "2021-05-25T09:57:00.247918Z",
     "shell.execute_reply": "2021-05-25T09:57:00.244042Z",
     "shell.execute_reply.started": "2021-05-25T08:51:19.845188Z"
    },
    "papermill": {
     "duration": 64.634753,
     "end_time": "2021-05-25T09:57:00.248107",
     "exception": false,
     "start_time": "2021-05-25T09:55:55.613354",
     "status": "completed"
    },
    "tags": []
   }
  },
  {
   "cell_type": "code",
   "execution_count": 19,
   "source": [
    "preds = [get_bird_names(get_thresh_preds(pred, thresh=THRESH)) for pred in pred_probas]\r\n",
    "# preds[:2]"
   ],
   "outputs": [],
   "metadata": {
    "execution": {
     "iopub.execute_input": "2021-05-25T09:57:00.316413Z",
     "iopub.status.busy": "2021-05-25T09:57:00.315790Z",
     "iopub.status.idle": "2021-05-25T09:57:00.408799Z",
     "shell.execute_reply": "2021-05-25T09:57:00.408365Z",
     "shell.execute_reply.started": "2021-05-25T08:52:22.568456Z"
    },
    "papermill": {
     "duration": 0.121948,
     "end_time": "2021-05-25T09:57:00.408912",
     "exception": false,
     "start_time": "2021-05-25T09:57:00.286964",
     "status": "completed"
    },
    "tags": []
   }
  },
  {
   "cell_type": "code",
   "execution_count": null,
   "source": [],
   "outputs": [],
   "metadata": {
    "papermill": {
     "duration": 0.025912,
     "end_time": "2021-05-25T09:57:00.460735",
     "exception": false,
     "start_time": "2021-05-25T09:57:00.434823",
     "status": "completed"
    },
    "tags": []
   }
  },
  {
   "cell_type": "code",
   "execution_count": 20,
   "source": [
    "def preds_as_df(data, preds):\r\n",
    "    sub = {\r\n",
    "        \"row_id\": [],\r\n",
    "        \"birds\": [],\r\n",
    "    }\r\n",
    "    \r\n",
    "    for row, pred in zip(data.itertuples(False), preds):\r\n",
    "        row_id = [f\"{row.id}_{row.site}_{5*i}\" for i in range(1, len(pred)+1)]\r\n",
    "        sub[\"birds\"] += pred\r\n",
    "        sub[\"row_id\"] += row_id\r\n",
    "        \r\n",
    "    sub = pd.DataFrame(sub)\r\n",
    "    \r\n",
    "    if SAMPLE_SUB_PATH:\r\n",
    "        sample_sub = pd.read_csv(SAMPLE_SUB_PATH, usecols=[\"row_id\"])\r\n",
    "        sub = sample_sub.merge(sub, on=\"row_id\", how=\"left\")\r\n",
    "        sub[\"birds\"] = sub[\"birds\"].fillna(\"nocall\")\r\n",
    "    return sub"
   ],
   "outputs": [],
   "metadata": {
    "execution": {
     "iopub.execute_input": "2021-05-25T09:57:00.520253Z",
     "iopub.status.busy": "2021-05-25T09:57:00.518967Z",
     "iopub.status.idle": "2021-05-25T09:57:00.521790Z",
     "shell.execute_reply": "2021-05-25T09:57:00.521361Z",
     "shell.execute_reply.started": "2021-05-25T08:52:22.688617Z"
    },
    "papermill": {
     "duration": 0.035527,
     "end_time": "2021-05-25T09:57:00.521889",
     "exception": false,
     "start_time": "2021-05-25T09:57:00.486362",
     "status": "completed"
    },
    "tags": []
   }
  },
  {
   "cell_type": "code",
   "execution_count": 21,
   "source": [
    "sub = preds_as_df(data, preds)\r\n",
    "print(sub.shape)\r\n",
    "sub"
   ],
   "outputs": [
    {
     "output_type": "stream",
     "name": "stdout",
     "text": [
      "(2400, 2)\n"
     ]
    },
    {
     "output_type": "execute_result",
     "data": {
      "text/html": [
       "<div>\n",
       "<style scoped>\n",
       "    .dataframe tbody tr th:only-of-type {\n",
       "        vertical-align: middle;\n",
       "    }\n",
       "\n",
       "    .dataframe tbody tr th {\n",
       "        vertical-align: top;\n",
       "    }\n",
       "\n",
       "    .dataframe thead th {\n",
       "        text-align: right;\n",
       "    }\n",
       "</style>\n",
       "<table border=\"1\" class=\"dataframe\">\n",
       "  <thead>\n",
       "    <tr style=\"text-align: right;\">\n",
       "      <th></th>\n",
       "      <th>row_id</th>\n",
       "      <th>birds</th>\n",
       "    </tr>\n",
       "  </thead>\n",
       "  <tbody>\n",
       "    <tr>\n",
       "      <th>0</th>\n",
       "      <td>20152_SSW_5</td>\n",
       "      <td>nocall</td>\n",
       "    </tr>\n",
       "    <tr>\n",
       "      <th>1</th>\n",
       "      <td>20152_SSW_10</td>\n",
       "      <td>nocall</td>\n",
       "    </tr>\n",
       "    <tr>\n",
       "      <th>2</th>\n",
       "      <td>20152_SSW_15</td>\n",
       "      <td>nocall</td>\n",
       "    </tr>\n",
       "    <tr>\n",
       "      <th>3</th>\n",
       "      <td>20152_SSW_20</td>\n",
       "      <td>nocall</td>\n",
       "    </tr>\n",
       "    <tr>\n",
       "      <th>4</th>\n",
       "      <td>20152_SSW_25</td>\n",
       "      <td>nocall</td>\n",
       "    </tr>\n",
       "    <tr>\n",
       "      <th>...</th>\n",
       "      <td>...</td>\n",
       "      <td>...</td>\n",
       "    </tr>\n",
       "    <tr>\n",
       "      <th>2395</th>\n",
       "      <td>26709_SSW_580</td>\n",
       "      <td>nocall</td>\n",
       "    </tr>\n",
       "    <tr>\n",
       "      <th>2396</th>\n",
       "      <td>26709_SSW_585</td>\n",
       "      <td>nocall</td>\n",
       "    </tr>\n",
       "    <tr>\n",
       "      <th>2397</th>\n",
       "      <td>26709_SSW_590</td>\n",
       "      <td>nocall</td>\n",
       "    </tr>\n",
       "    <tr>\n",
       "      <th>2398</th>\n",
       "      <td>26709_SSW_595</td>\n",
       "      <td>nocall</td>\n",
       "    </tr>\n",
       "    <tr>\n",
       "      <th>2399</th>\n",
       "      <td>26709_SSW_600</td>\n",
       "      <td>nocall</td>\n",
       "    </tr>\n",
       "  </tbody>\n",
       "</table>\n",
       "<p>2400 rows × 2 columns</p>\n",
       "</div>"
      ],
      "text/plain": [
       "             row_id   birds\n",
       "0       20152_SSW_5  nocall\n",
       "1      20152_SSW_10  nocall\n",
       "2      20152_SSW_15  nocall\n",
       "3      20152_SSW_20  nocall\n",
       "4      20152_SSW_25  nocall\n",
       "...             ...     ...\n",
       "2395  26709_SSW_580  nocall\n",
       "2396  26709_SSW_585  nocall\n",
       "2397  26709_SSW_590  nocall\n",
       "2398  26709_SSW_595  nocall\n",
       "2399  26709_SSW_600  nocall\n",
       "\n",
       "[2400 rows x 2 columns]"
      ]
     },
     "metadata": {},
     "execution_count": 21
    }
   ],
   "metadata": {
    "execution": {
     "iopub.execute_input": "2021-05-25T09:57:00.587325Z",
     "iopub.status.busy": "2021-05-25T09:57:00.586536Z",
     "iopub.status.idle": "2021-05-25T09:57:00.592570Z",
     "shell.execute_reply": "2021-05-25T09:57:00.592152Z",
     "shell.execute_reply.started": "2021-05-25T08:52:22.697158Z"
    },
    "papermill": {
     "duration": 0.044071,
     "end_time": "2021-05-25T09:57:00.592666",
     "exception": false,
     "start_time": "2021-05-25T09:57:00.548595",
     "status": "completed"
    },
    "tags": []
   }
  },
  {
   "cell_type": "code",
   "execution_count": 22,
   "source": [
    "sub.to_csv(\"submission.csv\", index=False)"
   ],
   "outputs": [],
   "metadata": {
    "execution": {
     "iopub.execute_input": "2021-05-25T09:57:00.649379Z",
     "iopub.status.busy": "2021-05-25T09:57:00.648615Z",
     "iopub.status.idle": "2021-05-25T09:57:00.793882Z",
     "shell.execute_reply": "2021-05-25T09:57:00.793430Z",
     "shell.execute_reply.started": "2021-05-25T08:52:22.721995Z"
    },
    "papermill": {
     "duration": 0.175037,
     "end_time": "2021-05-25T09:57:00.793991",
     "exception": false,
     "start_time": "2021-05-25T09:57:00.618954",
     "status": "completed"
    },
    "tags": []
   }
  },
  {
   "cell_type": "markdown",
   "source": [
    "# Small validation"
   ],
   "metadata": {
    "papermill": {
     "duration": 0.026099,
     "end_time": "2021-05-25T09:57:00.899401",
     "exception": false,
     "start_time": "2021-05-25T09:57:00.873302",
     "status": "completed"
    },
    "tags": []
   }
  },
  {
   "cell_type": "code",
   "execution_count": 23,
   "source": [
    "def get_metrics(s_true, s_pred):\r\n",
    "    s_true = set(s_true.split())\r\n",
    "    s_pred = set(s_pred.split())\r\n",
    "    n, n_true, n_pred = len(s_true.intersection(s_pred)), len(s_true), len(s_pred)\r\n",
    "    \r\n",
    "    prec = n/n_pred\r\n",
    "    rec = n/n_true\r\n",
    "    f1 = 2*prec*rec/(prec + rec) if prec + rec else 0\r\n",
    "    \r\n",
    "    return {\"f1\": f1, \"prec\": prec, \"rec\": rec, \"n_true\": n_true, \"n_pred\": n_pred, \"n\": n}"
   ],
   "outputs": [],
   "metadata": {
    "execution": {
     "iopub.execute_input": "2021-05-25T09:57:00.960054Z",
     "iopub.status.busy": "2021-05-25T09:57:00.958350Z",
     "iopub.status.idle": "2021-05-25T09:57:00.960719Z",
     "shell.execute_reply": "2021-05-25T09:57:00.961102Z",
     "shell.execute_reply.started": "2021-05-25T08:52:23.004683Z"
    },
    "papermill": {
     "duration": 0.035274,
     "end_time": "2021-05-25T09:57:00.961231",
     "exception": false,
     "start_time": "2021-05-25T09:57:00.925957",
     "status": "completed"
    },
    "tags": []
   }
  },
  {
   "cell_type": "code",
   "execution_count": 24,
   "source": [
    "if TARGET_PATH:\r\n",
    "    sub_target = pd.read_csv(TARGET_PATH)\r\n",
    "    sub_target = sub_target.merge(sub, how=\"left\", on=\"row_id\")\r\n",
    "    \r\n",
    "    print(sub_target[\"birds_x\"].notnull().sum(), sub_target[\"birds_x\"].notnull().sum())\r\n",
    "    assert sub_target[\"birds_x\"].notnull().all()\r\n",
    "    assert sub_target[\"birds_y\"].notnull().all()\r\n",
    "    \r\n",
    "    df_metrics = pd.DataFrame([get_metrics(s_true, s_pred) for s_true, s_pred in zip(sub_target.birds_x, sub_target.birds_y)])\r\n",
    "    \r\n",
    "    print(df_metrics.mean())"
   ],
   "outputs": [
    {
     "output_type": "stream",
     "name": "stdout",
     "text": [
      "2400 2400\n",
      "f1        0.674917\n",
      "prec      0.682153\n",
      "rec       0.672583\n",
      "n_true    1.130000\n",
      "n_pred    1.015833\n",
      "n         0.688750\n",
      "dtype: float64\n"
     ]
    }
   ],
   "metadata": {
    "execution": {
     "iopub.execute_input": "2021-05-25T09:57:01.021768Z",
     "iopub.status.busy": "2021-05-25T09:57:01.021282Z",
     "iopub.status.idle": "2021-05-25T09:57:01.056854Z",
     "shell.execute_reply": "2021-05-25T09:57:01.056408Z",
     "shell.execute_reply.started": "2021-05-25T08:52:23.015165Z"
    },
    "papermill": {
     "duration": 0.069202,
     "end_time": "2021-05-25T09:57:01.056953",
     "exception": false,
     "start_time": "2021-05-25T09:57:00.987751",
     "status": "completed"
    },
    "tags": []
   }
  },
  {
   "cell_type": "code",
   "execution_count": 25,
   "source": [
    "sub_target[sub_target.birds_y != \"nocall\"]"
   ],
   "outputs": [
    {
     "output_type": "execute_result",
     "data": {
      "text/html": [
       "<div>\n",
       "<style scoped>\n",
       "    .dataframe tbody tr th:only-of-type {\n",
       "        vertical-align: middle;\n",
       "    }\n",
       "\n",
       "    .dataframe tbody tr th {\n",
       "        vertical-align: top;\n",
       "    }\n",
       "\n",
       "    .dataframe thead th {\n",
       "        text-align: right;\n",
       "    }\n",
       "</style>\n",
       "<table border=\"1\" class=\"dataframe\">\n",
       "  <thead>\n",
       "    <tr style=\"text-align: right;\">\n",
       "      <th></th>\n",
       "      <th>row_id</th>\n",
       "      <th>site</th>\n",
       "      <th>audio_id</th>\n",
       "      <th>seconds</th>\n",
       "      <th>birds_x</th>\n",
       "      <th>birds_y</th>\n",
       "    </tr>\n",
       "  </thead>\n",
       "  <tbody>\n",
       "    <tr>\n",
       "      <th>2</th>\n",
       "      <td>7019_COR_15</td>\n",
       "      <td>COR</td>\n",
       "      <td>7019</td>\n",
       "      <td>15</td>\n",
       "      <td>nocall</td>\n",
       "      <td>bucmot2</td>\n",
       "    </tr>\n",
       "    <tr>\n",
       "      <th>4</th>\n",
       "      <td>7019_COR_25</td>\n",
       "      <td>COR</td>\n",
       "      <td>7019</td>\n",
       "      <td>25</td>\n",
       "      <td>nocall</td>\n",
       "      <td>bucmot2</td>\n",
       "    </tr>\n",
       "    <tr>\n",
       "      <th>45</th>\n",
       "      <td>7019_COR_230</td>\n",
       "      <td>COR</td>\n",
       "      <td>7019</td>\n",
       "      <td>230</td>\n",
       "      <td>nocall</td>\n",
       "      <td>rudpig</td>\n",
       "    </tr>\n",
       "    <tr>\n",
       "      <th>52</th>\n",
       "      <td>7019_COR_265</td>\n",
       "      <td>COR</td>\n",
       "      <td>7019</td>\n",
       "      <td>265</td>\n",
       "      <td>nocall</td>\n",
       "      <td>plupig2</td>\n",
       "    </tr>\n",
       "    <tr>\n",
       "      <th>81</th>\n",
       "      <td>7019_COR_410</td>\n",
       "      <td>COR</td>\n",
       "      <td>7019</td>\n",
       "      <td>410</td>\n",
       "      <td>nocall</td>\n",
       "      <td>plupig2</td>\n",
       "    </tr>\n",
       "    <tr>\n",
       "      <th>...</th>\n",
       "      <td>...</td>\n",
       "      <td>...</td>\n",
       "      <td>...</td>\n",
       "      <td>...</td>\n",
       "      <td>...</td>\n",
       "      <td>...</td>\n",
       "    </tr>\n",
       "    <tr>\n",
       "      <th>2279</th>\n",
       "      <td>51010_SSW_600</td>\n",
       "      <td>SSW</td>\n",
       "      <td>51010</td>\n",
       "      <td>600</td>\n",
       "      <td>bkcchi</td>\n",
       "      <td>bkcchi</td>\n",
       "    </tr>\n",
       "    <tr>\n",
       "      <th>2339</th>\n",
       "      <td>54955_SSW_300</td>\n",
       "      <td>SSW</td>\n",
       "      <td>54955</td>\n",
       "      <td>300</td>\n",
       "      <td>nocall</td>\n",
       "      <td>grhowl</td>\n",
       "    </tr>\n",
       "    <tr>\n",
       "      <th>2352</th>\n",
       "      <td>54955_SSW_365</td>\n",
       "      <td>SSW</td>\n",
       "      <td>54955</td>\n",
       "      <td>365</td>\n",
       "      <td>nocall</td>\n",
       "      <td>wilsni1</td>\n",
       "    </tr>\n",
       "    <tr>\n",
       "      <th>2375</th>\n",
       "      <td>54955_SSW_480</td>\n",
       "      <td>SSW</td>\n",
       "      <td>54955</td>\n",
       "      <td>480</td>\n",
       "      <td>ovenbi1</td>\n",
       "      <td>ovenbi1</td>\n",
       "    </tr>\n",
       "    <tr>\n",
       "      <th>2384</th>\n",
       "      <td>54955_SSW_525</td>\n",
       "      <td>SSW</td>\n",
       "      <td>54955</td>\n",
       "      <td>525</td>\n",
       "      <td>chswar</td>\n",
       "      <td>naswar</td>\n",
       "    </tr>\n",
       "  </tbody>\n",
       "</table>\n",
       "<p>331 rows × 6 columns</p>\n",
       "</div>"
      ],
      "text/plain": [
       "             row_id site  audio_id  seconds  birds_x  birds_y\n",
       "2       7019_COR_15  COR      7019       15   nocall  bucmot2\n",
       "4       7019_COR_25  COR      7019       25   nocall  bucmot2\n",
       "45     7019_COR_230  COR      7019      230   nocall   rudpig\n",
       "52     7019_COR_265  COR      7019      265   nocall  plupig2\n",
       "81     7019_COR_410  COR      7019      410   nocall  plupig2\n",
       "...             ...  ...       ...      ...      ...      ...\n",
       "2279  51010_SSW_600  SSW     51010      600   bkcchi   bkcchi\n",
       "2339  54955_SSW_300  SSW     54955      300   nocall   grhowl\n",
       "2352  54955_SSW_365  SSW     54955      365   nocall  wilsni1\n",
       "2375  54955_SSW_480  SSW     54955      480  ovenbi1  ovenbi1\n",
       "2384  54955_SSW_525  SSW     54955      525   chswar   naswar\n",
       "\n",
       "[331 rows x 6 columns]"
      ]
     },
     "metadata": {},
     "execution_count": 25
    }
   ],
   "metadata": {
    "execution": {
     "iopub.execute_input": "2021-05-25T09:57:01.128042Z",
     "iopub.status.busy": "2021-05-25T09:57:01.127566Z",
     "iopub.status.idle": "2021-05-25T09:57:01.132235Z",
     "shell.execute_reply": "2021-05-25T09:57:01.132598Z",
     "shell.execute_reply.started": "2021-05-25T08:52:23.062288Z"
    },
    "papermill": {
     "duration": 0.04695,
     "end_time": "2021-05-25T09:57:01.132713",
     "exception": false,
     "start_time": "2021-05-25T09:57:01.085763",
     "status": "completed"
    },
    "tags": []
   }
  },
  {
   "cell_type": "code",
   "execution_count": 26,
   "source": [
    "sub_target[sub_target.birds_x != \"nocall\"]"
   ],
   "outputs": [
    {
     "output_type": "execute_result",
     "data": {
      "text/html": [
       "<div>\n",
       "<style scoped>\n",
       "    .dataframe tbody tr th:only-of-type {\n",
       "        vertical-align: middle;\n",
       "    }\n",
       "\n",
       "    .dataframe tbody tr th {\n",
       "        vertical-align: top;\n",
       "    }\n",
       "\n",
       "    .dataframe thead th {\n",
       "        text-align: right;\n",
       "    }\n",
       "</style>\n",
       "<table border=\"1\" class=\"dataframe\">\n",
       "  <thead>\n",
       "    <tr style=\"text-align: right;\">\n",
       "      <th></th>\n",
       "      <th>row_id</th>\n",
       "      <th>site</th>\n",
       "      <th>audio_id</th>\n",
       "      <th>seconds</th>\n",
       "      <th>birds_x</th>\n",
       "      <th>birds_y</th>\n",
       "    </tr>\n",
       "  </thead>\n",
       "  <tbody>\n",
       "    <tr>\n",
       "      <th>240</th>\n",
       "      <td>11254_COR_5</td>\n",
       "      <td>COR</td>\n",
       "      <td>11254</td>\n",
       "      <td>5</td>\n",
       "      <td>rubwre1</td>\n",
       "      <td>nocall</td>\n",
       "    </tr>\n",
       "    <tr>\n",
       "      <th>242</th>\n",
       "      <td>11254_COR_15</td>\n",
       "      <td>COR</td>\n",
       "      <td>11254</td>\n",
       "      <td>15</td>\n",
       "      <td>rubwre1</td>\n",
       "      <td>nocall</td>\n",
       "    </tr>\n",
       "    <tr>\n",
       "      <th>244</th>\n",
       "      <td>11254_COR_25</td>\n",
       "      <td>COR</td>\n",
       "      <td>11254</td>\n",
       "      <td>25</td>\n",
       "      <td>rubwre1</td>\n",
       "      <td>nocall</td>\n",
       "    </tr>\n",
       "    <tr>\n",
       "      <th>267</th>\n",
       "      <td>11254_COR_140</td>\n",
       "      <td>COR</td>\n",
       "      <td>11254</td>\n",
       "      <td>140</td>\n",
       "      <td>obnthr1</td>\n",
       "      <td>nocall</td>\n",
       "    </tr>\n",
       "    <tr>\n",
       "      <th>268</th>\n",
       "      <td>11254_COR_145</td>\n",
       "      <td>COR</td>\n",
       "      <td>11254</td>\n",
       "      <td>145</td>\n",
       "      <td>obnthr1</td>\n",
       "      <td>nocall</td>\n",
       "    </tr>\n",
       "    <tr>\n",
       "      <th>...</th>\n",
       "      <td>...</td>\n",
       "      <td>...</td>\n",
       "      <td>...</td>\n",
       "      <td>...</td>\n",
       "      <td>...</td>\n",
       "      <td>...</td>\n",
       "    </tr>\n",
       "    <tr>\n",
       "      <th>2391</th>\n",
       "      <td>54955_SSW_560</td>\n",
       "      <td>SSW</td>\n",
       "      <td>54955</td>\n",
       "      <td>560</td>\n",
       "      <td>grycat</td>\n",
       "      <td>nocall</td>\n",
       "    </tr>\n",
       "    <tr>\n",
       "      <th>2393</th>\n",
       "      <td>54955_SSW_570</td>\n",
       "      <td>SSW</td>\n",
       "      <td>54955</td>\n",
       "      <td>570</td>\n",
       "      <td>grycat</td>\n",
       "      <td>nocall</td>\n",
       "    </tr>\n",
       "    <tr>\n",
       "      <th>2394</th>\n",
       "      <td>54955_SSW_575</td>\n",
       "      <td>SSW</td>\n",
       "      <td>54955</td>\n",
       "      <td>575</td>\n",
       "      <td>chswar</td>\n",
       "      <td>nocall</td>\n",
       "    </tr>\n",
       "    <tr>\n",
       "      <th>2396</th>\n",
       "      <td>54955_SSW_585</td>\n",
       "      <td>SSW</td>\n",
       "      <td>54955</td>\n",
       "      <td>585</td>\n",
       "      <td>grycat</td>\n",
       "      <td>nocall</td>\n",
       "    </tr>\n",
       "    <tr>\n",
       "      <th>2397</th>\n",
       "      <td>54955_SSW_590</td>\n",
       "      <td>SSW</td>\n",
       "      <td>54955</td>\n",
       "      <td>590</td>\n",
       "      <td>grycat</td>\n",
       "      <td>nocall</td>\n",
       "    </tr>\n",
       "  </tbody>\n",
       "</table>\n",
       "<p>871 rows × 6 columns</p>\n",
       "</div>"
      ],
      "text/plain": [
       "             row_id site  audio_id  seconds  birds_x birds_y\n",
       "240     11254_COR_5  COR     11254        5  rubwre1  nocall\n",
       "242    11254_COR_15  COR     11254       15  rubwre1  nocall\n",
       "244    11254_COR_25  COR     11254       25  rubwre1  nocall\n",
       "267   11254_COR_140  COR     11254      140  obnthr1  nocall\n",
       "268   11254_COR_145  COR     11254      145  obnthr1  nocall\n",
       "...             ...  ...       ...      ...      ...     ...\n",
       "2391  54955_SSW_560  SSW     54955      560   grycat  nocall\n",
       "2393  54955_SSW_570  SSW     54955      570   grycat  nocall\n",
       "2394  54955_SSW_575  SSW     54955      575   chswar  nocall\n",
       "2396  54955_SSW_585  SSW     54955      585   grycat  nocall\n",
       "2397  54955_SSW_590  SSW     54955      590   grycat  nocall\n",
       "\n",
       "[871 rows x 6 columns]"
      ]
     },
     "metadata": {},
     "execution_count": 26
    }
   ],
   "metadata": {
    "execution": {
     "iopub.execute_input": "2021-05-25T09:57:01.190969Z",
     "iopub.status.busy": "2021-05-25T09:57:01.190174Z",
     "iopub.status.idle": "2021-05-25T09:57:01.203388Z",
     "shell.execute_reply": "2021-05-25T09:57:01.202937Z",
     "shell.execute_reply.started": "2021-05-25T08:52:23.083565Z"
    },
    "papermill": {
     "duration": 0.043685,
     "end_time": "2021-05-25T09:57:01.203487",
     "exception": false,
     "start_time": "2021-05-25T09:57:01.159802",
     "status": "completed"
    },
    "tags": []
   }
  },
  {
   "cell_type": "code",
   "execution_count": null,
   "source": [],
   "outputs": [],
   "metadata": {
    "papermill": {
     "duration": 0.027879,
     "end_time": "2021-05-25T09:57:01.259371",
     "exception": false,
     "start_time": "2021-05-25T09:57:01.231492",
     "status": "completed"
    },
    "tags": []
   }
  }
 ],
 "metadata": {
  "kernelspec": {
   "display_name": "Python 3",
   "language": "python",
   "name": "python3"
  },
  "language_info": {
   "codemirror_mode": {
    "name": "ipython",
    "version": 3
   },
   "file_extension": ".py",
   "mimetype": "text/x-python",
   "name": "python",
   "nbconvert_exporter": "python",
   "pygments_lexer": "ipython3",
   "version": "3.7.9"
  },
  "papermill": {
   "default_parameters": {},
   "duration": 115.916018,
   "end_time": "2021-05-25T09:57:02.296809",
   "environment_variables": {},
   "exception": null,
   "input_path": "__notebook__.ipynb",
   "output_path": "__notebook__.ipynb",
   "parameters": {},
   "start_time": "2021-05-25T09:55:06.380791",
   "version": "2.3.2"
  },
  "widgets": {
   "application/vnd.jupyter.widget-state+json": {
    "state": {
     "088d5177e0794fe79c679f775bbb0375": {
      "model_module": "@jupyter-widgets/base",
      "model_module_version": "1.2.0",
      "model_name": "LayoutModel",
      "state": {
       "_model_module": "@jupyter-widgets/base",
       "_model_module_version": "1.2.0",
       "_model_name": "LayoutModel",
       "_view_count": null,
       "_view_module": "@jupyter-widgets/base",
       "_view_module_version": "1.2.0",
       "_view_name": "LayoutView",
       "align_content": null,
       "align_items": null,
       "align_self": null,
       "border": null,
       "bottom": null,
       "display": null,
       "flex": null,
       "flex_flow": null,
       "grid_area": null,
       "grid_auto_columns": null,
       "grid_auto_flow": null,
       "grid_auto_rows": null,
       "grid_column": null,
       "grid_gap": null,
       "grid_row": null,
       "grid_template_areas": null,
       "grid_template_columns": null,
       "grid_template_rows": null,
       "height": null,
       "justify_content": null,
       "justify_items": null,
       "left": null,
       "margin": null,
       "max_height": null,
       "max_width": null,
       "min_height": null,
       "min_width": null,
       "object_fit": null,
       "object_position": null,
       "order": null,
       "overflow": null,
       "overflow_x": null,
       "overflow_y": null,
       "padding": null,
       "right": null,
       "top": null,
       "visibility": null,
       "width": null
      }
     },
     "091393813b44440b9e36570530c01c62": {
      "model_module": "@jupyter-widgets/controls",
      "model_module_version": "1.5.0",
      "model_name": "HBoxModel",
      "state": {
       "_dom_classes": [],
       "_model_module": "@jupyter-widgets/controls",
       "_model_module_version": "1.5.0",
       "_model_name": "HBoxModel",
       "_view_count": null,
       "_view_module": "@jupyter-widgets/controls",
       "_view_module_version": "1.5.0",
       "_view_name": "HBoxView",
       "box_style": "",
       "children": [
        "IPY_MODEL_677d2bf7a89f48b7a96b5b8fbd5086e3",
        "IPY_MODEL_ef2b23e42c1148668554c1c45e84d8b7",
        "IPY_MODEL_176e5eef7719494a88c0b77f709b182c"
       ],
       "layout": "IPY_MODEL_5fd380c302ab44d7ac1c5c0788fd1428"
      }
     },
     "176e5eef7719494a88c0b77f709b182c": {
      "model_module": "@jupyter-widgets/controls",
      "model_module_version": "1.5.0",
      "model_name": "HTMLModel",
      "state": {
       "_dom_classes": [],
       "_model_module": "@jupyter-widgets/controls",
       "_model_module_version": "1.5.0",
       "_model_name": "HTMLModel",
       "_view_count": null,
       "_view_module": "@jupyter-widgets/controls",
       "_view_module_version": "1.5.0",
       "_view_name": "HTMLView",
       "description": "",
       "description_tooltip": null,
       "layout": "IPY_MODEL_b2deed2a200241c0a64cdd40d5fcba08",
       "placeholder": "​",
       "style": "IPY_MODEL_1b94a80a6d3443579a6581b572000af5",
       "value": " 20/20 [01:04&lt;00:00,  3.17s/it]"
      }
     },
     "1b94a80a6d3443579a6581b572000af5": {
      "model_module": "@jupyter-widgets/controls",
      "model_module_version": "1.5.0",
      "model_name": "DescriptionStyleModel",
      "state": {
       "_model_module": "@jupyter-widgets/controls",
       "_model_module_version": "1.5.0",
       "_model_name": "DescriptionStyleModel",
       "_view_count": null,
       "_view_module": "@jupyter-widgets/base",
       "_view_module_version": "1.2.0",
       "_view_name": "StyleView",
       "description_width": ""
      }
     },
     "5fd380c302ab44d7ac1c5c0788fd1428": {
      "model_module": "@jupyter-widgets/base",
      "model_module_version": "1.2.0",
      "model_name": "LayoutModel",
      "state": {
       "_model_module": "@jupyter-widgets/base",
       "_model_module_version": "1.2.0",
       "_model_name": "LayoutModel",
       "_view_count": null,
       "_view_module": "@jupyter-widgets/base",
       "_view_module_version": "1.2.0",
       "_view_name": "LayoutView",
       "align_content": null,
       "align_items": null,
       "align_self": null,
       "border": null,
       "bottom": null,
       "display": null,
       "flex": null,
       "flex_flow": null,
       "grid_area": null,
       "grid_auto_columns": null,
       "grid_auto_flow": null,
       "grid_auto_rows": null,
       "grid_column": null,
       "grid_gap": null,
       "grid_row": null,
       "grid_template_areas": null,
       "grid_template_columns": null,
       "grid_template_rows": null,
       "height": null,
       "justify_content": null,
       "justify_items": null,
       "left": null,
       "margin": null,
       "max_height": null,
       "max_width": null,
       "min_height": null,
       "min_width": null,
       "object_fit": null,
       "object_position": null,
       "order": null,
       "overflow": null,
       "overflow_x": null,
       "overflow_y": null,
       "padding": null,
       "right": null,
       "top": null,
       "visibility": null,
       "width": null
      }
     },
     "677d2bf7a89f48b7a96b5b8fbd5086e3": {
      "model_module": "@jupyter-widgets/controls",
      "model_module_version": "1.5.0",
      "model_name": "HTMLModel",
      "state": {
       "_dom_classes": [],
       "_model_module": "@jupyter-widgets/controls",
       "_model_module_version": "1.5.0",
       "_model_name": "HTMLModel",
       "_view_count": null,
       "_view_module": "@jupyter-widgets/controls",
       "_view_module_version": "1.5.0",
       "_view_name": "HTMLView",
       "description": "",
       "description_tooltip": null,
       "layout": "IPY_MODEL_f1272160c9d34c218551d23e799ae3ea",
       "placeholder": "​",
       "style": "IPY_MODEL_d4e4711e5b504bd1825eb42263b06250",
       "value": "100%"
      }
     },
     "b2deed2a200241c0a64cdd40d5fcba08": {
      "model_module": "@jupyter-widgets/base",
      "model_module_version": "1.2.0",
      "model_name": "LayoutModel",
      "state": {
       "_model_module": "@jupyter-widgets/base",
       "_model_module_version": "1.2.0",
       "_model_name": "LayoutModel",
       "_view_count": null,
       "_view_module": "@jupyter-widgets/base",
       "_view_module_version": "1.2.0",
       "_view_name": "LayoutView",
       "align_content": null,
       "align_items": null,
       "align_self": null,
       "border": null,
       "bottom": null,
       "display": null,
       "flex": null,
       "flex_flow": null,
       "grid_area": null,
       "grid_auto_columns": null,
       "grid_auto_flow": null,
       "grid_auto_rows": null,
       "grid_column": null,
       "grid_gap": null,
       "grid_row": null,
       "grid_template_areas": null,
       "grid_template_columns": null,
       "grid_template_rows": null,
       "height": null,
       "justify_content": null,
       "justify_items": null,
       "left": null,
       "margin": null,
       "max_height": null,
       "max_width": null,
       "min_height": null,
       "min_width": null,
       "object_fit": null,
       "object_position": null,
       "order": null,
       "overflow": null,
       "overflow_x": null,
       "overflow_y": null,
       "padding": null,
       "right": null,
       "top": null,
       "visibility": null,
       "width": null
      }
     },
     "d4e4711e5b504bd1825eb42263b06250": {
      "model_module": "@jupyter-widgets/controls",
      "model_module_version": "1.5.0",
      "model_name": "DescriptionStyleModel",
      "state": {
       "_model_module": "@jupyter-widgets/controls",
       "_model_module_version": "1.5.0",
       "_model_name": "DescriptionStyleModel",
       "_view_count": null,
       "_view_module": "@jupyter-widgets/base",
       "_view_module_version": "1.2.0",
       "_view_name": "StyleView",
       "description_width": ""
      }
     },
     "eeaf4f26e77740348aaeb3141a1773fd": {
      "model_module": "@jupyter-widgets/controls",
      "model_module_version": "1.5.0",
      "model_name": "ProgressStyleModel",
      "state": {
       "_model_module": "@jupyter-widgets/controls",
       "_model_module_version": "1.5.0",
       "_model_name": "ProgressStyleModel",
       "_view_count": null,
       "_view_module": "@jupyter-widgets/base",
       "_view_module_version": "1.2.0",
       "_view_name": "StyleView",
       "bar_color": null,
       "description_width": ""
      }
     },
     "ef2b23e42c1148668554c1c45e84d8b7": {
      "model_module": "@jupyter-widgets/controls",
      "model_module_version": "1.5.0",
      "model_name": "FloatProgressModel",
      "state": {
       "_dom_classes": [],
       "_model_module": "@jupyter-widgets/controls",
       "_model_module_version": "1.5.0",
       "_model_name": "FloatProgressModel",
       "_view_count": null,
       "_view_module": "@jupyter-widgets/controls",
       "_view_module_version": "1.5.0",
       "_view_name": "ProgressView",
       "bar_style": "success",
       "description": "",
       "description_tooltip": null,
       "layout": "IPY_MODEL_088d5177e0794fe79c679f775bbb0375",
       "max": 20,
       "min": 0,
       "orientation": "horizontal",
       "style": "IPY_MODEL_eeaf4f26e77740348aaeb3141a1773fd",
       "value": 20
      }
     },
     "f1272160c9d34c218551d23e799ae3ea": {
      "model_module": "@jupyter-widgets/base",
      "model_module_version": "1.2.0",
      "model_name": "LayoutModel",
      "state": {
       "_model_module": "@jupyter-widgets/base",
       "_model_module_version": "1.2.0",
       "_model_name": "LayoutModel",
       "_view_count": null,
       "_view_module": "@jupyter-widgets/base",
       "_view_module_version": "1.2.0",
       "_view_name": "LayoutView",
       "align_content": null,
       "align_items": null,
       "align_self": null,
       "border": null,
       "bottom": null,
       "display": null,
       "flex": null,
       "flex_flow": null,
       "grid_area": null,
       "grid_auto_columns": null,
       "grid_auto_flow": null,
       "grid_auto_rows": null,
       "grid_column": null,
       "grid_gap": null,
       "grid_row": null,
       "grid_template_areas": null,
       "grid_template_columns": null,
       "grid_template_rows": null,
       "height": null,
       "justify_content": null,
       "justify_items": null,
       "left": null,
       "margin": null,
       "max_height": null,
       "max_width": null,
       "min_height": null,
       "min_width": null,
       "object_fit": null,
       "object_position": null,
       "order": null,
       "overflow": null,
       "overflow_x": null,
       "overflow_y": null,
       "padding": null,
       "right": null,
       "top": null,
       "visibility": null,
       "width": null
      }
     }
    },
    "version_major": 2,
    "version_minor": 0
   }
  }
 },
 "nbformat": 4,
 "nbformat_minor": 5
}