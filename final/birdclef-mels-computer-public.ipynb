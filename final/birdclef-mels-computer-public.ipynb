{
 "cells": [
  {
   "cell_type": "markdown",
   "source": [
    "# Notes"
   ],
   "metadata": {
    "papermill": {
     "duration": 0.018531,
     "end_time": "2021-04-27T16:16:17.440560",
     "exception": false,
     "start_time": "2021-04-27T16:16:17.422029",
     "status": "completed"
    },
    "tags": []
   }
  },
  {
   "cell_type": "markdown",
   "source": [
    "Used prepared melspectograms with duration 7 sec\r\n",
    "\r\n",
    "* https://www.kaggle.com/kneroma/kkiller-birdclef-mels-computer-d7-part1\r\n",
    "* https://www.kaggle.com/kneroma/kkiller-birdclef-mels-computer-d7-part2\r\n",
    "* https://www.kaggle.com/kneroma/kkiller-birdclef-mels-computer-d7-part3\r\n",
    "* https://www.kaggle.com/kneroma/kkiller-birdclef-mels-computer-d7-part4\r\n"
   ],
   "metadata": {
    "papermill": {
     "duration": 0.017173,
     "end_time": "2021-04-27T16:16:17.475413",
     "exception": false,
     "start_time": "2021-04-27T16:16:17.458240",
     "status": "completed"
    },
    "tags": []
   }
  },
  {
   "cell_type": "code",
   "execution_count": 1,
   "source": [
    "import numpy as np\r\n",
    "import librosa as lb\r\n",
    "import librosa.display as lbd\r\n",
    "import soundfile as sf\r\n",
    "from  soundfile import SoundFile\r\n",
    "import pandas as pd\r\n",
    "from  IPython.display import Audio\r\n",
    "from pathlib import Path\r\n",
    "\r\n",
    "from matplotlib import pyplot as plt\r\n",
    "\r\n",
    "from tqdm.notebook import tqdm\r\n",
    "import joblib, json\r\n",
    "\r\n",
    "from  sklearn.model_selection  import StratifiedKFold"
   ],
   "outputs": [],
   "metadata": {
    "execution": {
     "iopub.execute_input": "2021-04-27T16:16:17.550828Z",
     "iopub.status.busy": "2021-04-27T16:16:17.549042Z",
     "iopub.status.idle": "2021-04-27T16:16:20.164530Z",
     "shell.execute_reply": "2021-04-27T16:16:20.162832Z"
    },
    "id": "2dt7oG43VAqc",
    "papermill": {
     "duration": 2.637633,
     "end_time": "2021-04-27T16:16:20.164867",
     "exception": false,
     "start_time": "2021-04-27T16:16:17.527234",
     "status": "completed"
    },
    "tags": []
   }
  },
  {
   "cell_type": "code",
   "execution_count": 2,
   "source": [
    "PART_ID = 0 # The start index in the below list, by changing it you will compute mels on another subset\r\n",
    "PART_INDEXES = [0,15718, 31436, 47154, 62874] # The train_set is splitted into 4 subsets"
   ],
   "outputs": [],
   "metadata": {
    "execution": {
     "iopub.execute_input": "2021-04-27T16:16:20.223683Z",
     "iopub.status.busy": "2021-04-27T16:16:20.223071Z",
     "iopub.status.idle": "2021-04-27T16:16:20.226099Z",
     "shell.execute_reply": "2021-04-27T16:16:20.225482Z"
    },
    "id": "fJB9IS2RVAqe",
    "papermill": {
     "duration": 0.028849,
     "end_time": "2021-04-27T16:16:20.226236",
     "exception": false,
     "start_time": "2021-04-27T16:16:20.197387",
     "status": "completed"
    },
    "tags": []
   }
  },
  {
   "cell_type": "code",
   "execution_count": 3,
   "source": [
    "SR = 32_000\r\n",
    "DURATION = 7 \r\n",
    "SEED = 42\r\n",
    "\r\n",
    "DATA_ROOT = Path(\"../input/birdclef-2021\")\r\n",
    "TRAIN_AUDIO_ROOT = Path(\"../input/birdclef-2021/train_short_audio\")\r\n",
    "# Where to save the mels images\r\n",
    "TRAIN_AUDIO_IMAGES_SAVE_ROOT = Path(\"audio_images\") \r\n",
    "TRAIN_AUDIO_IMAGES_SAVE_ROOT.mkdir(exist_ok=True, parents=True)"
   ],
   "outputs": [],
   "metadata": {
    "execution": {
     "iopub.execute_input": "2021-04-27T16:16:20.265814Z",
     "iopub.status.busy": "2021-04-27T16:16:20.265203Z",
     "iopub.status.idle": "2021-04-27T16:16:20.271213Z",
     "shell.execute_reply": "2021-04-27T16:16:20.270714Z"
    },
    "papermill": {
     "duration": 0.027531,
     "end_time": "2021-04-27T16:16:20.271347",
     "exception": false,
     "start_time": "2021-04-27T16:16:20.243816",
     "status": "completed"
    },
    "tags": []
   }
  },
  {
   "cell_type": "code",
   "execution_count": null,
   "source": [],
   "outputs": [],
   "metadata": {
    "papermill": {
     "duration": 0.017359,
     "end_time": "2021-04-27T16:16:20.306482",
     "exception": false,
     "start_time": "2021-04-27T16:16:20.289123",
     "status": "completed"
    },
    "tags": []
   }
  },
  {
   "cell_type": "code",
   "execution_count": 4,
   "source": [
    "def get_audio_info(filepath):\r\n",
    "    \"\"\"Get some properties from  an audio file\"\"\"\r\n",
    "    with SoundFile(filepath) as f:\r\n",
    "        sr = f.samplerate\r\n",
    "        frames = f.frames\r\n",
    "        duration = float(frames)/sr\r\n",
    "    return {\"frames\": frames, \"sr\": sr, \"duration\": duration}"
   ],
   "outputs": [],
   "metadata": {
    "execution": {
     "iopub.execute_input": "2021-04-27T16:16:20.348906Z",
     "iopub.status.busy": "2021-04-27T16:16:20.348224Z",
     "iopub.status.idle": "2021-04-27T16:16:20.350389Z",
     "shell.execute_reply": "2021-04-27T16:16:20.351019Z"
    },
    "papermill": {
     "duration": 0.026875,
     "end_time": "2021-04-27T16:16:20.351194",
     "exception": false,
     "start_time": "2021-04-27T16:16:20.324319",
     "status": "completed"
    },
    "tags": []
   }
  },
  {
   "cell_type": "code",
   "execution_count": 5,
   "source": [
    "def make_df(n_splits=5, seed=SEED, nrows=None):\r\n",
    "    '''\r\n",
    "    func to prepare df with fold ids\r\n",
    "    Args: \r\n",
    "    * n_splits - num splits devide df,\r\n",
    "    * seed - random_state,\r\n",
    "    * nrows - Number of rows of file to read. Useful for reading pieces of large files\r\n",
    "    return: LABEL_IDS, df\r\n",
    "    '''\r\n",
    "    df = pd.read_csv(DATA_ROOT/\"train_metadata.csv\", nrows=nrows)\r\n",
    "\r\n",
    "    LABEL_IDS = {label: label_id for label_id,label in enumerate(sorted(df[\"primary_label\"].unique()))}\r\n",
    "    \r\n",
    "    df = df.iloc[PART_INDEXES[PART_ID]: PART_INDEXES[PART_ID+1]]\r\n",
    "\r\n",
    "    df[\"label_id\"] = df[\"primary_label\"].map(LABEL_IDS)\r\n",
    "\r\n",
    "    df[\"filepath\"] = [str(TRAIN_AUDIO_ROOT/primary_label/filename) for primary_label,filename in zip(df.primary_label, df.filename) ]\r\n",
    "\r\n",
    "    pool = joblib.Parallel(4)\r\n",
    "    mapper = joblib.delayed(get_audio_info)\r\n",
    "    tasks = [mapper(filepath) for filepath in df.filepath]\r\n",
    "\r\n",
    "    df = pd.concat([df, pd.DataFrame(pool(tqdm(tasks)))], axis=1, sort=False)\r\n",
    "    \r\n",
    "    skf = StratifiedKFold(n_splits=n_splits, random_state=seed, shuffle=True)\r\n",
    "    splits = skf.split(np.arange(len(df)), y=df.label_id.values)\r\n",
    "    df[\"fold\"] = -1\r\n",
    "\r\n",
    "    for fold, (train_set, val_set) in enumerate(splits):\r\n",
    "        \r\n",
    "        df.loc[df.index[val_set], \"fold\"] = fold\r\n",
    "\r\n",
    "    return LABEL_IDS, df"
   ],
   "outputs": [],
   "metadata": {
    "execution": {
     "iopub.execute_input": "2021-04-27T16:16:20.390769Z",
     "iopub.status.busy": "2021-04-27T16:16:20.390149Z",
     "iopub.status.idle": "2021-04-27T16:16:20.400256Z",
     "shell.execute_reply": "2021-04-27T16:16:20.400815Z"
    },
    "id": "Kmh6xx5_NCjJ",
    "outputId": "ad61f09f-6f0e-4204-c658-21112e051785",
    "papermill": {
     "duration": 0.031496,
     "end_time": "2021-04-27T16:16:20.401055",
     "exception": false,
     "start_time": "2021-04-27T16:16:20.369559",
     "status": "completed"
    },
    "tags": []
   }
  },
  {
   "cell_type": "code",
   "execution_count": 6,
   "source": [
    "LABEL_IDS, df = make_df(nrows=None)\r\n",
    "\r\n",
    "df.to_csv(\"rich_train_metadata.csv\", index=True)\r\n",
    "with open(\"LABEL_IDS.json\", \"w\") as f:\r\n",
    "    json.dump(LABEL_IDS, f)\r\n",
    "\r\n",
    "print(df.shape)\r\n",
    "df.head()"
   ],
   "outputs": [
    {
     "output_type": "display_data",
     "data": {
      "application/vnd.jupyter.widget-view+json": {
       "model_id": "2224d1d6bc1e49c1ae91d4d208970461",
       "version_major": 2,
       "version_minor": 0
      },
      "text/plain": [
       "  0%|          | 0/15718 [00:00<?, ?it/s]"
      ]
     },
     "metadata": {}
    },
    {
     "output_type": "stream",
     "name": "stdout",
     "text": [
      "(15718, 20)\n"
     ]
    },
    {
     "output_type": "execute_result",
     "data": {
      "text/html": [
       "<div>\n",
       "<style scoped>\n",
       "    .dataframe tbody tr th:only-of-type {\n",
       "        vertical-align: middle;\n",
       "    }\n",
       "\n",
       "    .dataframe tbody tr th {\n",
       "        vertical-align: top;\n",
       "    }\n",
       "\n",
       "    .dataframe thead th {\n",
       "        text-align: right;\n",
       "    }\n",
       "</style>\n",
       "<table border=\"1\" class=\"dataframe\">\n",
       "  <thead>\n",
       "    <tr style=\"text-align: right;\">\n",
       "      <th></th>\n",
       "      <th>primary_label</th>\n",
       "      <th>secondary_labels</th>\n",
       "      <th>type</th>\n",
       "      <th>latitude</th>\n",
       "      <th>longitude</th>\n",
       "      <th>scientific_name</th>\n",
       "      <th>common_name</th>\n",
       "      <th>author</th>\n",
       "      <th>date</th>\n",
       "      <th>filename</th>\n",
       "      <th>license</th>\n",
       "      <th>rating</th>\n",
       "      <th>time</th>\n",
       "      <th>url</th>\n",
       "      <th>label_id</th>\n",
       "      <th>filepath</th>\n",
       "      <th>frames</th>\n",
       "      <th>sr</th>\n",
       "      <th>duration</th>\n",
       "      <th>fold</th>\n",
       "    </tr>\n",
       "  </thead>\n",
       "  <tbody>\n",
       "    <tr>\n",
       "      <th>0</th>\n",
       "      <td>acafly</td>\n",
       "      <td>['amegfi']</td>\n",
       "      <td>['begging call', 'call', 'juvenile']</td>\n",
       "      <td>35.3860</td>\n",
       "      <td>-84.1250</td>\n",
       "      <td>Empidonax virescens</td>\n",
       "      <td>Acadian Flycatcher</td>\n",
       "      <td>Mike Nelson</td>\n",
       "      <td>2012-08-12</td>\n",
       "      <td>XC109605.ogg</td>\n",
       "      <td>Creative Commons Attribution-NonCommercial-Sha...</td>\n",
       "      <td>2.5</td>\n",
       "      <td>09:30</td>\n",
       "      <td>https://www.xeno-canto.org/109605</td>\n",
       "      <td>0</td>\n",
       "      <td>../input/birdclef-2021/train_short_audio/acafl...</td>\n",
       "      <td>2037586</td>\n",
       "      <td>32000</td>\n",
       "      <td>63.674563</td>\n",
       "      <td>0</td>\n",
       "    </tr>\n",
       "    <tr>\n",
       "      <th>1</th>\n",
       "      <td>acafly</td>\n",
       "      <td>[]</td>\n",
       "      <td>['call']</td>\n",
       "      <td>9.1334</td>\n",
       "      <td>-79.6501</td>\n",
       "      <td>Empidonax virescens</td>\n",
       "      <td>Acadian Flycatcher</td>\n",
       "      <td>Allen T. Chartier</td>\n",
       "      <td>2000-12-26</td>\n",
       "      <td>XC11209.ogg</td>\n",
       "      <td>Creative Commons Attribution-NonCommercial-Sha...</td>\n",
       "      <td>3.0</td>\n",
       "      <td>?</td>\n",
       "      <td>https://www.xeno-canto.org/11209</td>\n",
       "      <td>0</td>\n",
       "      <td>../input/birdclef-2021/train_short_audio/acafl...</td>\n",
       "      <td>532933</td>\n",
       "      <td>32000</td>\n",
       "      <td>16.654156</td>\n",
       "      <td>1</td>\n",
       "    </tr>\n",
       "    <tr>\n",
       "      <th>2</th>\n",
       "      <td>acafly</td>\n",
       "      <td>[]</td>\n",
       "      <td>['call']</td>\n",
       "      <td>5.7813</td>\n",
       "      <td>-75.7452</td>\n",
       "      <td>Empidonax virescens</td>\n",
       "      <td>Acadian Flycatcher</td>\n",
       "      <td>Sergio Chaparro-Herrera</td>\n",
       "      <td>2012-01-10</td>\n",
       "      <td>XC127032.ogg</td>\n",
       "      <td>Creative Commons Attribution-NonCommercial-Sha...</td>\n",
       "      <td>3.0</td>\n",
       "      <td>15:20</td>\n",
       "      <td>https://www.xeno-canto.org/127032</td>\n",
       "      <td>0</td>\n",
       "      <td>../input/birdclef-2021/train_short_audio/acafl...</td>\n",
       "      <td>1508450</td>\n",
       "      <td>32000</td>\n",
       "      <td>47.139063</td>\n",
       "      <td>3</td>\n",
       "    </tr>\n",
       "    <tr>\n",
       "      <th>3</th>\n",
       "      <td>acafly</td>\n",
       "      <td>['whwbec1']</td>\n",
       "      <td>['call']</td>\n",
       "      <td>4.6717</td>\n",
       "      <td>-75.6283</td>\n",
       "      <td>Empidonax virescens</td>\n",
       "      <td>Acadian Flycatcher</td>\n",
       "      <td>Oscar Humberto Marin-Gomez</td>\n",
       "      <td>2009-06-19</td>\n",
       "      <td>XC129974.ogg</td>\n",
       "      <td>Creative Commons Attribution-NonCommercial-Sha...</td>\n",
       "      <td>3.5</td>\n",
       "      <td>07:50</td>\n",
       "      <td>https://www.xeno-canto.org/129974</td>\n",
       "      <td>0</td>\n",
       "      <td>../input/birdclef-2021/train_short_audio/acafl...</td>\n",
       "      <td>450177</td>\n",
       "      <td>32000</td>\n",
       "      <td>14.068031</td>\n",
       "      <td>4</td>\n",
       "    </tr>\n",
       "    <tr>\n",
       "      <th>4</th>\n",
       "      <td>acafly</td>\n",
       "      <td>['whwbec1']</td>\n",
       "      <td>['call']</td>\n",
       "      <td>4.6717</td>\n",
       "      <td>-75.6283</td>\n",
       "      <td>Empidonax virescens</td>\n",
       "      <td>Acadian Flycatcher</td>\n",
       "      <td>Oscar Humberto Marin-Gomez</td>\n",
       "      <td>2009-06-19</td>\n",
       "      <td>XC129981.ogg</td>\n",
       "      <td>Creative Commons Attribution-NonCommercial-Sha...</td>\n",
       "      <td>3.5</td>\n",
       "      <td>07:50</td>\n",
       "      <td>https://www.xeno-canto.org/129981</td>\n",
       "      <td>0</td>\n",
       "      <td>../input/birdclef-2021/train_short_audio/acafl...</td>\n",
       "      <td>1301142</td>\n",
       "      <td>32000</td>\n",
       "      <td>40.660688</td>\n",
       "      <td>2</td>\n",
       "    </tr>\n",
       "  </tbody>\n",
       "</table>\n",
       "</div>"
      ],
      "text/plain": [
       "  primary_label secondary_labels                                  type  \\\n",
       "0        acafly       ['amegfi']  ['begging call', 'call', 'juvenile']   \n",
       "1        acafly               []                              ['call']   \n",
       "2        acafly               []                              ['call']   \n",
       "3        acafly      ['whwbec1']                              ['call']   \n",
       "4        acafly      ['whwbec1']                              ['call']   \n",
       "\n",
       "   latitude  longitude      scientific_name         common_name  \\\n",
       "0   35.3860   -84.1250  Empidonax virescens  Acadian Flycatcher   \n",
       "1    9.1334   -79.6501  Empidonax virescens  Acadian Flycatcher   \n",
       "2    5.7813   -75.7452  Empidonax virescens  Acadian Flycatcher   \n",
       "3    4.6717   -75.6283  Empidonax virescens  Acadian Flycatcher   \n",
       "4    4.6717   -75.6283  Empidonax virescens  Acadian Flycatcher   \n",
       "\n",
       "                       author        date      filename  \\\n",
       "0                 Mike Nelson  2012-08-12  XC109605.ogg   \n",
       "1           Allen T. Chartier  2000-12-26   XC11209.ogg   \n",
       "2     Sergio Chaparro-Herrera  2012-01-10  XC127032.ogg   \n",
       "3  Oscar Humberto Marin-Gomez  2009-06-19  XC129974.ogg   \n",
       "4  Oscar Humberto Marin-Gomez  2009-06-19  XC129981.ogg   \n",
       "\n",
       "                                             license  rating   time  \\\n",
       "0  Creative Commons Attribution-NonCommercial-Sha...     2.5  09:30   \n",
       "1  Creative Commons Attribution-NonCommercial-Sha...     3.0      ?   \n",
       "2  Creative Commons Attribution-NonCommercial-Sha...     3.0  15:20   \n",
       "3  Creative Commons Attribution-NonCommercial-Sha...     3.5  07:50   \n",
       "4  Creative Commons Attribution-NonCommercial-Sha...     3.5  07:50   \n",
       "\n",
       "                                 url  label_id  \\\n",
       "0  https://www.xeno-canto.org/109605         0   \n",
       "1   https://www.xeno-canto.org/11209         0   \n",
       "2  https://www.xeno-canto.org/127032         0   \n",
       "3  https://www.xeno-canto.org/129974         0   \n",
       "4  https://www.xeno-canto.org/129981         0   \n",
       "\n",
       "                                            filepath   frames     sr  \\\n",
       "0  ../input/birdclef-2021/train_short_audio/acafl...  2037586  32000   \n",
       "1  ../input/birdclef-2021/train_short_audio/acafl...   532933  32000   \n",
       "2  ../input/birdclef-2021/train_short_audio/acafl...  1508450  32000   \n",
       "3  ../input/birdclef-2021/train_short_audio/acafl...   450177  32000   \n",
       "4  ../input/birdclef-2021/train_short_audio/acafl...  1301142  32000   \n",
       "\n",
       "    duration  fold  \n",
       "0  63.674563     0  \n",
       "1  16.654156     1  \n",
       "2  47.139063     3  \n",
       "3  14.068031     4  \n",
       "4  40.660688     2  "
      ]
     },
     "metadata": {},
     "execution_count": 6
    }
   ],
   "metadata": {
    "execution": {
     "iopub.execute_input": "2021-04-27T16:16:20.476310Z",
     "iopub.status.busy": "2021-04-27T16:16:20.475614Z",
     "iopub.status.idle": "2021-04-27T16:18:03.714052Z",
     "shell.execute_reply": "2021-04-27T16:18:03.714579Z"
    },
    "id": "SRRhx1EAN75G",
    "outputId": "f1688387-b564-4f8d-8895-4490c90d4150",
    "papermill": {
     "duration": 103.259664,
     "end_time": "2021-04-27T16:18:03.714789",
     "exception": false,
     "start_time": "2021-04-27T16:16:20.455125",
     "status": "completed"
    },
    "tags": []
   }
  },
  {
   "cell_type": "code",
   "execution_count": null,
   "source": [],
   "outputs": [],
   "metadata": {
    "papermill": {
     "duration": 0.019425,
     "end_time": "2021-04-27T16:18:03.754255",
     "exception": false,
     "start_time": "2021-04-27T16:18:03.734830",
     "status": "completed"
    },
    "tags": []
   }
  },
  {
   "cell_type": "code",
   "execution_count": 7,
   "source": [
    "df[\"fold\"].value_counts()"
   ],
   "outputs": [
    {
     "output_type": "execute_result",
     "data": {
      "text/plain": [
       "0    3144\n",
       "1    3144\n",
       "2    3144\n",
       "3    3143\n",
       "4    3143\n",
       "Name: fold, dtype: int64"
      ]
     },
     "metadata": {},
     "execution_count": 7
    }
   ],
   "metadata": {
    "execution": {
     "iopub.execute_input": "2021-04-27T16:18:03.804002Z",
     "iopub.status.busy": "2021-04-27T16:18:03.801452Z",
     "iopub.status.idle": "2021-04-27T16:18:03.809109Z",
     "shell.execute_reply": "2021-04-27T16:18:03.808445Z"
    },
    "papermill": {
     "duration": 0.035419,
     "end_time": "2021-04-27T16:18:03.809244",
     "exception": false,
     "start_time": "2021-04-27T16:18:03.773825",
     "status": "completed"
    },
    "tags": []
   }
  },
  {
   "cell_type": "code",
   "execution_count": 8,
   "source": [
    "df[\"primary_label\"].value_counts()"
   ],
   "outputs": [
    {
     "output_type": "execute_result",
     "data": {
      "text/plain": [
       "barswa     500\n",
       "amerob     481\n",
       "bewwre     466\n",
       "carwre     464\n",
       "bncfly     406\n",
       "          ... \n",
       "amewig      38\n",
       "bucmot2     38\n",
       "cacgoo1     36\n",
       "blctan1     35\n",
       "clcrob      14\n",
       "Name: primary_label, Length: 100, dtype: int64"
      ]
     },
     "metadata": {},
     "execution_count": 8
    }
   ],
   "metadata": {
    "execution": {
     "iopub.execute_input": "2021-04-27T16:18:03.862072Z",
     "iopub.status.busy": "2021-04-27T16:18:03.861154Z",
     "iopub.status.idle": "2021-04-27T16:18:03.865910Z",
     "shell.execute_reply": "2021-04-27T16:18:03.865342Z"
    },
    "id": "ZRz-DwbNVAqg",
    "outputId": "51f26b97-6a1e-4e39-c6fa-5114cfe27a25",
    "papermill": {
     "duration": 0.036456,
     "end_time": "2021-04-27T16:18:03.866059",
     "exception": false,
     "start_time": "2021-04-27T16:18:03.829603",
     "status": "completed"
    },
    "tags": []
   }
  },
  {
   "cell_type": "code",
   "execution_count": 9,
   "source": [
    "df[\"duration\"].hist(bins=20)"
   ],
   "outputs": [
    {
     "output_type": "execute_result",
     "data": {
      "text/plain": [
       "<AxesSubplot:>"
      ]
     },
     "metadata": {},
     "execution_count": 9
    },
    {
     "output_type": "display_data",
     "data": {
      "image/png": "[encoded data removed]",
      "text/plain": [
       "<Figure size 432x288 with 1 Axes>"
      ]
     },
     "metadata": {
      "needs_background": "light"
     }
    }
   ],
   "metadata": {
    "execution": {
     "iopub.execute_input": "2021-04-27T16:18:03.912203Z",
     "iopub.status.busy": "2021-04-27T16:18:03.911529Z",
     "iopub.status.idle": "2021-04-27T16:18:04.144188Z",
     "shell.execute_reply": "2021-04-27T16:18:04.143667Z"
    },
    "papermill": {
     "duration": 0.257618,
     "end_time": "2021-04-27T16:18:04.144335",
     "exception": false,
     "start_time": "2021-04-27T16:18:03.886717",
     "status": "completed"
    },
    "tags": []
   }
  },
  {
   "cell_type": "code",
   "execution_count": 10,
   "source": [
    "df[\"duration\"].quantile(np.arange(0, 1, 0.01)).plot()"
   ],
   "outputs": [
    {
     "output_type": "execute_result",
     "data": {
      "text/plain": [
       "<AxesSubplot:>"
      ]
     },
     "metadata": {},
     "execution_count": 10
    },
    {
     "output_type": "display_data",
     "data": {
      "image/png": "[encoded data removed]",
      "text/plain": [
       "<Figure size 432x288 with 1 Axes>"
      ]
     },
     "metadata": {
      "needs_background": "light"
     }
    }
   ],
   "metadata": {
    "execution": {
     "iopub.execute_input": "2021-04-27T16:18:04.194010Z",
     "iopub.status.busy": "2021-04-27T16:18:04.193378Z",
     "iopub.status.idle": "2021-04-27T16:18:04.344669Z",
     "shell.execute_reply": "2021-04-27T16:18:04.344017Z"
    },
    "papermill": {
     "duration": 0.178859,
     "end_time": "2021-04-27T16:18:04.344813",
     "exception": false,
     "start_time": "2021-04-27T16:18:04.165954",
     "status": "completed"
    },
    "tags": []
   }
  },
  {
   "cell_type": "code",
   "execution_count": null,
   "source": [],
   "outputs": [],
   "metadata": {
    "id": "xh4hfWZhuglm",
    "papermill": {
     "duration": 0.022848,
     "end_time": "2021-04-27T16:18:04.390611",
     "exception": false,
     "start_time": "2021-04-27T16:18:04.367763",
     "status": "completed"
    },
    "tags": []
   }
  },
  {
   "cell_type": "code",
   "execution_count": 11,
   "source": [
    "class MelSpecComputer:\r\n",
    "    def __init__(self, sr, n_mels, fmin, fmax, **kwargs):\r\n",
    "        self.sr = sr\r\n",
    "        self.n_mels = n_mels\r\n",
    "        self.fmin = fmin\r\n",
    "        self.fmax = fmax\r\n",
    "        kwargs[\"n_fft\"] = kwargs.get(\"n_fft\", self.sr//10)\r\n",
    "        kwargs[\"hop_length\"] = kwargs.get(\"hop_length\", self.sr//(10*4))\r\n",
    "        self.kwargs = kwargs\r\n",
    "\r\n",
    "    def __call__(self, y):\r\n",
    "\r\n",
    "        melspec = lb.feature.melspectrogram(\r\n",
    "            y, sr=self.sr, n_mels=self.n_mels, fmin=self.fmin, fmax=self.fmax, **self.kwargs,\r\n",
    "        )\r\n",
    "\r\n",
    "        melspec = lb.power_to_db(melspec).astype(np.float32)\r\n",
    "        return melspec"
   ],
   "outputs": [],
   "metadata": {
    "execution": {
     "iopub.execute_input": "2021-04-27T16:18:04.445236Z",
     "iopub.status.busy": "2021-04-27T16:18:04.444320Z",
     "iopub.status.idle": "2021-04-27T16:18:04.447895Z",
     "shell.execute_reply": "2021-04-27T16:18:04.447362Z"
    },
    "id": "7NZq43qTVAqi",
    "papermill": {
     "duration": 0.034462,
     "end_time": "2021-04-27T16:18:04.448030",
     "exception": false,
     "start_time": "2021-04-27T16:18:04.413568",
     "status": "completed"
    },
    "tags": []
   }
  },
  {
   "cell_type": "code",
   "execution_count": 12,
   "source": [
    "def mono_to_color(X, eps=1e-6, mean=None, std=None):\r\n",
    "    mean = mean or X.mean()\r\n",
    "    std = std or X.std()\r\n",
    "    X = (X - mean) / (std + eps)\r\n",
    "    \r\n",
    "    _min, _max = X.min(), X.max()\r\n",
    "\r\n",
    "    if (_max - _min) > eps:\r\n",
    "        V = np.clip(X, _min, _max)\r\n",
    "        V = 255 * (V - _min) / (_max - _min)\r\n",
    "        V = V.astype(np.uint8)\r\n",
    "    else:\r\n",
    "        V = np.zeros_like(X, dtype=np.uint8)\r\n",
    "\r\n",
    "    return V\r\n",
    "\r\n",
    "def crop_or_pad(y, length, is_train=True, start=None):\r\n",
    "    if len(y) < length:\r\n",
    "        y = np.concatenate([y, np.zeros(length - len(y))])\r\n",
    "        \r\n",
    "        n_repeats = length // len(y)\r\n",
    "        epsilon = length % len(y)\r\n",
    "        \r\n",
    "        y = np.concatenate([y]*n_repeats + [y[:epsilon]])\r\n",
    "        \r\n",
    "    elif len(y) > length:\r\n",
    "        if not is_train:\r\n",
    "            start = start or 0\r\n",
    "        else:\r\n",
    "            start = start or np.random.randint(len(y) - length)\r\n",
    "\r\n",
    "        y = y[start:start + length]\r\n",
    "\r\n",
    "    return y"
   ],
   "outputs": [],
   "metadata": {
    "execution": {
     "iopub.execute_input": "2021-04-27T16:18:04.505071Z",
     "iopub.status.busy": "2021-04-27T16:18:04.504374Z",
     "iopub.status.idle": "2021-04-27T16:18:04.507747Z",
     "shell.execute_reply": "2021-04-27T16:18:04.507108Z"
    },
    "id": "-Nlw4E5UVAqi",
    "papermill": {
     "duration": 0.036932,
     "end_time": "2021-04-27T16:18:04.507902",
     "exception": false,
     "start_time": "2021-04-27T16:18:04.470970",
     "status": "completed"
    },
    "tags": []
   }
  },
  {
   "cell_type": "code",
   "execution_count": 13,
   "source": [
    "class AudioToImage:\r\n",
    "    '''Transform audio file ogg to matrix npy '''\r\n",
    "    def __init__(self, sr=SR, n_mels=128, fmin=0, fmax=None, duration=DURATION, step=None, res_type=\"kaiser_fast\", resample=True):\r\n",
    "\r\n",
    "        self.sr = sr\r\n",
    "        self.n_mels = n_mels\r\n",
    "        self.fmin = fmin\r\n",
    "        self.fmax = fmax or self.sr//2\r\n",
    "\r\n",
    "        self.duration = duration\r\n",
    "        self.audio_length = self.duration*self.sr\r\n",
    "        self.step = step or self.audio_length\r\n",
    "        \r\n",
    "        self.res_type = res_type\r\n",
    "        self.resample = resample\r\n",
    "\r\n",
    "        self.mel_spec_computer = MelSpecComputer(sr=self.sr, n_mels=self.n_mels, fmin=self.fmin,\r\n",
    "                                                 fmax=self.fmax)\r\n",
    "        \r\n",
    "    def audio_to_image(self, audio):\r\n",
    "        melspec = self.mel_spec_computer(audio) \r\n",
    "        image = mono_to_color(melspec)\r\n",
    "        return image\r\n",
    "\r\n",
    "    def __call__(self, row, save=True):\r\n",
    "    \r\n",
    "      audio, orig_sr = sf.read(row.filepath, dtype=\"float32\")\r\n",
    "\r\n",
    "      if self.resample and orig_sr != self.sr:\r\n",
    "        audio = lb.resample(audio, orig_sr, self.sr, res_type=self.res_type)\r\n",
    "        \r\n",
    "      audios = [audio[i:i+self.audio_length] for i in range(0, max(1, len(audio) - self.audio_length + 1), self.step)]\r\n",
    "      audios[-1] = crop_or_pad(audios[-1] , length=self.audio_length)\r\n",
    "      images = [self.audio_to_image(audio) for audio in audios]\r\n",
    "      images = np.stack(images)\r\n",
    "        \r\n",
    "      if save:\r\n",
    "        path = TRAIN_AUDIO_IMAGES_SAVE_ROOT/f\"{row.primary_label}/{row.filename}.npy\"\r\n",
    "        path.parent.mkdir(exist_ok=True, parents=True)\r\n",
    "        np.save(str(path), images)\r\n",
    "      else:\r\n",
    "        return  row.filename, images"
   ],
   "outputs": [],
   "metadata": {
    "execution": {
     "iopub.execute_input": "2021-04-27T16:18:04.568106Z",
     "iopub.status.busy": "2021-04-27T16:18:04.567448Z",
     "iopub.status.idle": "2021-04-27T16:18:04.569945Z",
     "shell.execute_reply": "2021-04-27T16:18:04.570457Z"
    },
    "papermill": {
     "duration": 0.039542,
     "end_time": "2021-04-27T16:18:04.570629",
     "exception": false,
     "start_time": "2021-04-27T16:18:04.531087",
     "status": "completed"
    },
    "tags": []
   }
  },
  {
   "cell_type": "code",
   "execution_count": 14,
   "source": [
    "def get_audios_as_images(df):\r\n",
    "    pool = joblib.Parallel(2)\r\n",
    "    \r\n",
    "    converter = AudioToImage(step=int(DURATION*0.666*SR))\r\n",
    "    mapper = joblib.delayed(converter)\r\n",
    "    tasks = [mapper(row) for row in df.itertuples(False)]\r\n",
    "    \r\n",
    "    pool(tqdm(tasks))"
   ],
   "outputs": [],
   "metadata": {
    "execution": {
     "iopub.execute_input": "2021-04-27T16:18:04.623826Z",
     "iopub.status.busy": "2021-04-27T16:18:04.622992Z",
     "iopub.status.idle": "2021-04-27T16:18:04.626480Z",
     "shell.execute_reply": "2021-04-27T16:18:04.625862Z"
    },
    "papermill": {
     "duration": 0.032362,
     "end_time": "2021-04-27T16:18:04.626619",
     "exception": false,
     "start_time": "2021-04-27T16:18:04.594257",
     "status": "completed"
    },
    "tags": []
   }
  },
  {
   "cell_type": "code",
   "execution_count": 15,
   "source": [
    "get_audios_as_images(df)"
   ],
   "outputs": [
    {
     "output_type": "display_data",
     "data": {
      "application/vnd.jupyter.widget-view+json": {
       "model_id": "2bee6530abc24995a04d4ec3c0ca8e80",
       "version_major": 2,
       "version_minor": 0
      },
      "text/plain": [
       "  0%|          | 0/15718 [00:00<?, ?it/s]"
      ]
     },
     "metadata": {}
    }
   ],
   "metadata": {
    "execution": {
     "iopub.execute_input": "2021-04-27T16:18:04.880909Z",
     "iopub.status.busy": "2021-04-27T16:18:04.709027Z",
     "iopub.status.idle": "2021-04-27T17:26:41.959661Z",
     "shell.execute_reply": "2021-04-27T17:26:41.958544Z"
    },
    "papermill": {
     "duration": 4117.309995,
     "end_time": "2021-04-27T17:26:41.959921",
     "exception": false,
     "start_time": "2021-04-27T16:18:04.649926",
     "status": "completed"
    },
    "tags": []
   }
  },
  {
   "cell_type": "code",
   "execution_count": 16,
   "source": [
    "row = df.loc[df.duration.idxmax()]\r\n",
    "mels = np.load(str((TRAIN_AUDIO_IMAGES_SAVE_ROOT/row.primary_label/row.filename).as_posix() + \".npy\"))\r\n",
    "print(mels.shape)"
   ],
   "outputs": [
    {
     "output_type": "stream",
     "name": "stdout",
     "text": [
      "(587, 128, 281)\n"
     ]
    }
   ],
   "metadata": {
    "execution": {
     "iopub.execute_input": "2021-04-27T17:26:42.091380Z",
     "iopub.status.busy": "2021-04-27T17:26:42.090739Z",
     "iopub.status.idle": "2021-04-27T17:26:42.134389Z",
     "shell.execute_reply": "2021-04-27T17:26:42.135276Z"
    },
    "papermill": {
     "duration": 0.072801,
     "end_time": "2021-04-27T17:26:42.135537",
     "exception": false,
     "start_time": "2021-04-27T17:26:42.062736",
     "status": "completed"
    },
    "tags": []
   }
  },
  {
   "cell_type": "code",
   "execution_count": 17,
   "source": [
    "lbd.specshow(mels[0])"
   ],
   "outputs": [
    {
     "output_type": "execute_result",
     "data": {
      "text/plain": [
       "<matplotlib.collections.QuadMesh at 0x7f44ed413dd0>"
      ]
     },
     "metadata": {},
     "execution_count": 17
    },
    {
     "output_type": "display_data",
     "data": {
      "image/png": "[encoded data removed]",
      "text/plain": [
       "<Figure size 432x288 with 1 Axes>"
      ]
     },
     "metadata": {}
    }
   ],
   "metadata": {
    "execution": {
     "iopub.execute_input": "2021-04-27T17:26:42.190923Z",
     "iopub.status.busy": "2021-04-27T17:26:42.190306Z",
     "iopub.status.idle": "2021-04-27T17:26:42.317548Z",
     "shell.execute_reply": "2021-04-27T17:26:42.317999Z"
    },
    "papermill": {
     "duration": 0.155057,
     "end_time": "2021-04-27T17:26:42.318185",
     "exception": false,
     "start_time": "2021-04-27T17:26:42.163128",
     "status": "completed"
    },
    "tags": []
   }
  }
 ],
 "metadata": {
  "kernelspec": {
   "display_name": "Python 3",
   "language": "python",
   "name": "python3"
  },
  "language_info": {
   "codemirror_mode": {
    "name": "ipython",
    "version": 3
   },
   "file_extension": ".py",
   "mimetype": "text/x-python",
   "name": "python",
   "nbconvert_exporter": "python",
   "pygments_lexer": "ipython3",
   "version": "3.7.9"
  },
  "papermill": {
   "default_parameters": {},
   "duration": 4232.494119,
   "end_time": "2021-04-27T17:26:43.623151",
   "environment_variables": {},
   "exception": null,
   "input_path": "__notebook__.ipynb",
   "output_path": "__notebook__.ipynb",
   "parameters": {},
   "start_time": "2021-04-27T16:16:11.129032",
   "version": "2.3.2"
  },
  "widgets": {
   "application/vnd.jupyter.widget-state+json": {
    "state": {
     "01daf7135fb34b3a99e916c482b22506": {
      "model_module": "@jupyter-widgets/controls",
      "model_module_version": "1.5.0",
      "model_name": "DescriptionStyleModel",
      "state": {
       "_model_module": "@jupyter-widgets/controls",
       "_model_module_version": "1.5.0",
       "_model_name": "DescriptionStyleModel",
       "_view_count": null,
       "_view_module": "@jupyter-widgets/base",
       "_view_module_version": "1.2.0",
       "_view_name": "StyleView",
       "description_width": ""
      }
     },
     "1daeb8b506454e0a8da6290ea6ddd95a": {
      "model_module": "@jupyter-widgets/controls",
      "model_module_version": "1.5.0",
      "model_name": "FloatProgressModel",
      "state": {
       "_dom_classes": [],
       "_model_module": "@jupyter-widgets/controls",
       "_model_module_version": "1.5.0",
       "_model_name": "FloatProgressModel",
       "_view_count": null,
       "_view_module": "@jupyter-widgets/controls",
       "_view_module_version": "1.5.0",
       "_view_name": "ProgressView",
       "bar_style": "success",
       "description": "",
       "description_tooltip": null,
       "layout": "IPY_MODEL_f1dbd105580d4a8298f49059a16957a4",
       "max": 15718,
       "min": 0,
       "orientation": "horizontal",
       "style": "IPY_MODEL_58dfa2fdcc584df5af8f32555e57befa",
       "value": 15718
      }
     },
     "2224d1d6bc1e49c1ae91d4d208970461": {
      "model_module": "@jupyter-widgets/controls",
      "model_module_version": "1.5.0",
      "model_name": "HBoxModel",
      "state": {
       "_dom_classes": [],
       "_model_module": "@jupyter-widgets/controls",
       "_model_module_version": "1.5.0",
       "_model_name": "HBoxModel",
       "_view_count": null,
       "_view_module": "@jupyter-widgets/controls",
       "_view_module_version": "1.5.0",
       "_view_name": "HBoxView",
       "box_style": "",
       "children": [
        "IPY_MODEL_ca7dfe4f62f74cd6b7f1022fd54c3def",
        "IPY_MODEL_9210031d106b49fdb20fbcc5b764dddd",
        "IPY_MODEL_54e9348525d8421d9de9af7d2c2b9353"
       ],
       "layout": "IPY_MODEL_763b8c467be947acb643eabe7535b3d1"
      }
     },
     "28e225eb25c04f95baac1ee8716754c7": {
      "model_module": "@jupyter-widgets/base",
      "model_module_version": "1.2.0",
      "model_name": "LayoutModel",
      "state": {
       "_model_module": "@jupyter-widgets/base",
       "_model_module_version": "1.2.0",
       "_model_name": "LayoutModel",
       "_view_count": null,
       "_view_module": "@jupyter-widgets/base",
       "_view_module_version": "1.2.0",
       "_view_name": "LayoutView",
       "align_content": null,
       "align_items": null,
       "align_self": null,
       "border": null,
       "bottom": null,
       "display": null,
       "flex": null,
       "flex_flow": null,
       "grid_area": null,
       "grid_auto_columns": null,
       "grid_auto_flow": null,
       "grid_auto_rows": null,
       "grid_column": null,
       "grid_gap": null,
       "grid_row": null,
       "grid_template_areas": null,
       "grid_template_columns": null,
       "grid_template_rows": null,
       "height": null,
       "justify_content": null,
       "justify_items": null,
       "left": null,
       "margin": null,
       "max_height": null,
       "max_width": null,
       "min_height": null,
       "min_width": null,
       "object_fit": null,
       "object_position": null,
       "order": null,
       "overflow": null,
       "overflow_x": null,
       "overflow_y": null,
       "padding": null,
       "right": null,
       "top": null,
       "visibility": null,
       "width": null
      }
     },
     "2bee6530abc24995a04d4ec3c0ca8e80": {
      "model_module": "@jupyter-widgets/controls",
      "model_module_version": "1.5.0",
      "model_name": "HBoxModel",
      "state": {
       "_dom_classes": [],
       "_model_module": "@jupyter-widgets/controls",
       "_model_module_version": "1.5.0",
       "_model_name": "HBoxModel",
       "_view_count": null,
       "_view_module": "@jupyter-widgets/controls",
       "_view_module_version": "1.5.0",
       "_view_name": "HBoxView",
       "box_style": "",
       "children": [
        "IPY_MODEL_78262c35fee741a8908d34c4063f0db4",
        "IPY_MODEL_1daeb8b506454e0a8da6290ea6ddd95a",
        "IPY_MODEL_69823fa7e7c14695b1840596c6505ec9"
       ],
       "layout": "IPY_MODEL_28e225eb25c04f95baac1ee8716754c7"
      }
     },
     "31f38b7fc4fe430e9df57316f548362b": {
      "model_module": "@jupyter-widgets/base",
      "model_module_version": "1.2.0",
      "model_name": "LayoutModel",
      "state": {
       "_model_module": "@jupyter-widgets/base",
       "_model_module_version": "1.2.0",
       "_model_name": "LayoutModel",
       "_view_count": null,
       "_view_module": "@jupyter-widgets/base",
       "_view_module_version": "1.2.0",
       "_view_name": "LayoutView",
       "align_content": null,
       "align_items": null,
       "align_self": null,
       "border": null,
       "bottom": null,
       "display": null,
       "flex": null,
       "flex_flow": null,
       "grid_area": null,
       "grid_auto_columns": null,
       "grid_auto_flow": null,
       "grid_auto_rows": null,
       "grid_column": null,
       "grid_gap": null,
       "grid_row": null,
       "grid_template_areas": null,
       "grid_template_columns": null,
       "grid_template_rows": null,
       "height": null,
       "justify_content": null,
       "justify_items": null,
       "left": null,
       "margin": null,
       "max_height": null,
       "max_width": null,
       "min_height": null,
       "min_width": null,
       "object_fit": null,
       "object_position": null,
       "order": null,
       "overflow": null,
       "overflow_x": null,
       "overflow_y": null,
       "padding": null,
       "right": null,
       "top": null,
       "visibility": null,
       "width": null
      }
     },
     "54e9348525d8421d9de9af7d2c2b9353": {
      "model_module": "@jupyter-widgets/controls",
      "model_module_version": "1.5.0",
      "model_name": "HTMLModel",
      "state": {
       "_dom_classes": [],
       "_model_module": "@jupyter-widgets/controls",
       "_model_module_version": "1.5.0",
       "_model_name": "HTMLModel",
       "_view_count": null,
       "_view_module": "@jupyter-widgets/controls",
       "_view_module_version": "1.5.0",
       "_view_name": "HTMLView",
       "description": "",
       "description_tooltip": null,
       "layout": "IPY_MODEL_5b21b87fbd994b70ba412f8f9df6cf08",
       "placeholder": "​",
       "style": "IPY_MODEL_01daf7135fb34b3a99e916c482b22506",
       "value": " 15718/15718 [01:41&lt;00:00, 168.91it/s]"
      }
     },
     "58dfa2fdcc584df5af8f32555e57befa": {
      "model_module": "@jupyter-widgets/controls",
      "model_module_version": "1.5.0",
      "model_name": "ProgressStyleModel",
      "state": {
       "_model_module": "@jupyter-widgets/controls",
       "_model_module_version": "1.5.0",
       "_model_name": "ProgressStyleModel",
       "_view_count": null,
       "_view_module": "@jupyter-widgets/base",
       "_view_module_version": "1.2.0",
       "_view_name": "StyleView",
       "bar_color": null,
       "description_width": ""
      }
     },
     "5b21b87fbd994b70ba412f8f9df6cf08": {
      "model_module": "@jupyter-widgets/base",
      "model_module_version": "1.2.0",
      "model_name": "LayoutModel",
      "state": {
       "_model_module": "@jupyter-widgets/base",
       "_model_module_version": "1.2.0",
       "_model_name": "LayoutModel",
       "_view_count": null,
       "_view_module": "@jupyter-widgets/base",
       "_view_module_version": "1.2.0",
       "_view_name": "LayoutView",
       "align_content": null,
       "align_items": null,
       "align_self": null,
       "border": null,
       "bottom": null,
       "display": null,
       "flex": null,
       "flex_flow": null,
       "grid_area": null,
       "grid_auto_columns": null,
       "grid_auto_flow": null,
       "grid_auto_rows": null,
       "grid_column": null,
       "grid_gap": null,
       "grid_row": null,
       "grid_template_areas": null,
       "grid_template_columns": null,
       "grid_template_rows": null,
       "height": null,
       "justify_content": null,
       "justify_items": null,
       "left": null,
       "margin": null,
       "max_height": null,
       "max_width": null,
       "min_height": null,
       "min_width": null,
       "object_fit": null,
       "object_position": null,
       "order": null,
       "overflow": null,
       "overflow_x": null,
       "overflow_y": null,
       "padding": null,
       "right": null,
       "top": null,
       "visibility": null,
       "width": null
      }
     },
     "5bac5adb32364364a25b625eea8a7402": {
      "model_module": "@jupyter-widgets/controls",
      "model_module_version": "1.5.0",
      "model_name": "ProgressStyleModel",
      "state": {
       "_model_module": "@jupyter-widgets/controls",
       "_model_module_version": "1.5.0",
       "_model_name": "ProgressStyleModel",
       "_view_count": null,
       "_view_module": "@jupyter-widgets/base",
       "_view_module_version": "1.2.0",
       "_view_name": "StyleView",
       "bar_color": null,
       "description_width": ""
      }
     },
     "5e9b18fe827b416485d01d33e932895b": {
      "model_module": "@jupyter-widgets/controls",
      "model_module_version": "1.5.0",
      "model_name": "DescriptionStyleModel",
      "state": {
       "_model_module": "@jupyter-widgets/controls",
       "_model_module_version": "1.5.0",
       "_model_name": "DescriptionStyleModel",
       "_view_count": null,
       "_view_module": "@jupyter-widgets/base",
       "_view_module_version": "1.2.0",
       "_view_name": "StyleView",
       "description_width": ""
      }
     },
     "68a7b65fec124ab6bf0f064964b4d205": {
      "model_module": "@jupyter-widgets/base",
      "model_module_version": "1.2.0",
      "model_name": "LayoutModel",
      "state": {
       "_model_module": "@jupyter-widgets/base",
       "_model_module_version": "1.2.0",
       "_model_name": "LayoutModel",
       "_view_count": null,
       "_view_module": "@jupyter-widgets/base",
       "_view_module_version": "1.2.0",
       "_view_name": "LayoutView",
       "align_content": null,
       "align_items": null,
       "align_self": null,
       "border": null,
       "bottom": null,
       "display": null,
       "flex": null,
       "flex_flow": null,
       "grid_area": null,
       "grid_auto_columns": null,
       "grid_auto_flow": null,
       "grid_auto_rows": null,
       "grid_column": null,
       "grid_gap": null,
       "grid_row": null,
       "grid_template_areas": null,
       "grid_template_columns": null,
       "grid_template_rows": null,
       "height": null,
       "justify_content": null,
       "justify_items": null,
       "left": null,
       "margin": null,
       "max_height": null,
       "max_width": null,
       "min_height": null,
       "min_width": null,
       "object_fit": null,
       "object_position": null,
       "order": null,
       "overflow": null,
       "overflow_x": null,
       "overflow_y": null,
       "padding": null,
       "right": null,
       "top": null,
       "visibility": null,
       "width": null
      }
     },
     "69823fa7e7c14695b1840596c6505ec9": {
      "model_module": "@jupyter-widgets/controls",
      "model_module_version": "1.5.0",
      "model_name": "HTMLModel",
      "state": {
       "_dom_classes": [],
       "_model_module": "@jupyter-widgets/controls",
       "_model_module_version": "1.5.0",
       "_model_name": "HTMLModel",
       "_view_count": null,
       "_view_module": "@jupyter-widgets/controls",
       "_view_module_version": "1.5.0",
       "_view_name": "HTMLView",
       "description": "",
       "description_tooltip": null,
       "layout": "IPY_MODEL_68a7b65fec124ab6bf0f064964b4d205",
       "placeholder": "​",
       "style": "IPY_MODEL_6af1a0bdc6704fc0b9b82d49130d6b89",
       "value": " 15718/15718 [1:08:36&lt;00:00,  5.60it/s]"
      }
     },
     "6af1a0bdc6704fc0b9b82d49130d6b89": {
      "model_module": "@jupyter-widgets/controls",
      "model_module_version": "1.5.0",
      "model_name": "DescriptionStyleModel",
      "state": {
       "_model_module": "@jupyter-widgets/controls",
       "_model_module_version": "1.5.0",
       "_model_name": "DescriptionStyleModel",
       "_view_count": null,
       "_view_module": "@jupyter-widgets/base",
       "_view_module_version": "1.2.0",
       "_view_name": "StyleView",
       "description_width": ""
      }
     },
     "763b8c467be947acb643eabe7535b3d1": {
      "model_module": "@jupyter-widgets/base",
      "model_module_version": "1.2.0",
      "model_name": "LayoutModel",
      "state": {
       "_model_module": "@jupyter-widgets/base",
       "_model_module_version": "1.2.0",
       "_model_name": "LayoutModel",
       "_view_count": null,
       "_view_module": "@jupyter-widgets/base",
       "_view_module_version": "1.2.0",
       "_view_name": "LayoutView",
       "align_content": null,
       "align_items": null,
       "align_self": null,
       "border": null,
       "bottom": null,
       "display": null,
       "flex": null,
       "flex_flow": null,
       "grid_area": null,
       "grid_auto_columns": null,
       "grid_auto_flow": null,
       "grid_auto_rows": null,
       "grid_column": null,
       "grid_gap": null,
       "grid_row": null,
       "grid_template_areas": null,
       "grid_template_columns": null,
       "grid_template_rows": null,
       "height": null,
       "justify_content": null,
       "justify_items": null,
       "left": null,
       "margin": null,
       "max_height": null,
       "max_width": null,
       "min_height": null,
       "min_width": null,
       "object_fit": null,
       "object_position": null,
       "order": null,
       "overflow": null,
       "overflow_x": null,
       "overflow_y": null,
       "padding": null,
       "right": null,
       "top": null,
       "visibility": null,
       "width": null
      }
     },
     "78262c35fee741a8908d34c4063f0db4": {
      "model_module": "@jupyter-widgets/controls",
      "model_module_version": "1.5.0",
      "model_name": "HTMLModel",
      "state": {
       "_dom_classes": [],
       "_model_module": "@jupyter-widgets/controls",
       "_model_module_version": "1.5.0",
       "_model_name": "HTMLModel",
       "_view_count": null,
       "_view_module": "@jupyter-widgets/controls",
       "_view_module_version": "1.5.0",
       "_view_name": "HTMLView",
       "description": "",
       "description_tooltip": null,
       "layout": "IPY_MODEL_c58c19dc6d014eceb307fd10a7819ee4",
       "placeholder": "​",
       "style": "IPY_MODEL_5e9b18fe827b416485d01d33e932895b",
       "value": "100%"
      }
     },
     "9210031d106b49fdb20fbcc5b764dddd": {
      "model_module": "@jupyter-widgets/controls",
      "model_module_version": "1.5.0",
      "model_name": "FloatProgressModel",
      "state": {
       "_dom_classes": [],
       "_model_module": "@jupyter-widgets/controls",
       "_model_module_version": "1.5.0",
       "_model_name": "FloatProgressModel",
       "_view_count": null,
       "_view_module": "@jupyter-widgets/controls",
       "_view_module_version": "1.5.0",
       "_view_name": "ProgressView",
       "bar_style": "success",
       "description": "",
       "description_tooltip": null,
       "layout": "IPY_MODEL_c0bc4c72728a4223849d64f0a378fc54",
       "max": 15718,
       "min": 0,
       "orientation": "horizontal",
       "style": "IPY_MODEL_5bac5adb32364364a25b625eea8a7402",
       "value": 15718
      }
     },
     "aee5cf1a672346bf91b63a9e7531b471": {
      "model_module": "@jupyter-widgets/controls",
      "model_module_version": "1.5.0",
      "model_name": "DescriptionStyleModel",
      "state": {
       "_model_module": "@jupyter-widgets/controls",
       "_model_module_version": "1.5.0",
       "_model_name": "DescriptionStyleModel",
       "_view_count": null,
       "_view_module": "@jupyter-widgets/base",
       "_view_module_version": "1.2.0",
       "_view_name": "StyleView",
       "description_width": ""
      }
     },
     "c0bc4c72728a4223849d64f0a378fc54": {
      "model_module": "@jupyter-widgets/base",
      "model_module_version": "1.2.0",
      "model_name": "LayoutModel",
      "state": {
       "_model_module": "@jupyter-widgets/base",
       "_model_module_version": "1.2.0",
       "_model_name": "LayoutModel",
       "_view_count": null,
       "_view_module": "@jupyter-widgets/base",
       "_view_module_version": "1.2.0",
       "_view_name": "LayoutView",
       "align_content": null,
       "align_items": null,
       "align_self": null,
       "border": null,
       "bottom": null,
       "display": null,
       "flex": null,
       "flex_flow": null,
       "grid_area": null,
       "grid_auto_columns": null,
       "grid_auto_flow": null,
       "grid_auto_rows": null,
       "grid_column": null,
       "grid_gap": null,
       "grid_row": null,
       "grid_template_areas": null,
       "grid_template_columns": null,
       "grid_template_rows": null,
       "height": null,
       "justify_content": null,
       "justify_items": null,
       "left": null,
       "margin": null,
       "max_height": null,
       "max_width": null,
       "min_height": null,
       "min_width": null,
       "object_fit": null,
       "object_position": null,
       "order": null,
       "overflow": null,
       "overflow_x": null,
       "overflow_y": null,
       "padding": null,
       "right": null,
       "top": null,
       "visibility": null,
       "width": null
      }
     },
     "c58c19dc6d014eceb307fd10a7819ee4": {
      "model_module": "@jupyter-widgets/base",
      "model_module_version": "1.2.0",
      "model_name": "LayoutModel",
      "state": {
       "_model_module": "@jupyter-widgets/base",
       "_model_module_version": "1.2.0",
       "_model_name": "LayoutModel",
       "_view_count": null,
       "_view_module": "@jupyter-widgets/base",
       "_view_module_version": "1.2.0",
       "_view_name": "LayoutView",
       "align_content": null,
       "align_items": null,
       "align_self": null,
       "border": null,
       "bottom": null,
       "display": null,
       "flex": null,
       "flex_flow": null,
       "grid_area": null,
       "grid_auto_columns": null,
       "grid_auto_flow": null,
       "grid_auto_rows": null,
       "grid_column": null,
       "grid_gap": null,
       "grid_row": null,
       "grid_template_areas": null,
       "grid_template_columns": null,
       "grid_template_rows": null,
       "height": null,
       "justify_content": null,
       "justify_items": null,
       "left": null,
       "margin": null,
       "max_height": null,
       "max_width": null,
       "min_height": null,
       "min_width": null,
       "object_fit": null,
       "object_position": null,
       "order": null,
       "overflow": null,
       "overflow_x": null,
       "overflow_y": null,
       "padding": null,
       "right": null,
       "top": null,
       "visibility": null,
       "width": null
      }
     },
     "ca7dfe4f62f74cd6b7f1022fd54c3def": {
      "model_module": "@jupyter-widgets/controls",
      "model_module_version": "1.5.0",
      "model_name": "HTMLModel",
      "state": {
       "_dom_classes": [],
       "_model_module": "@jupyter-widgets/controls",
       "_model_module_version": "1.5.0",
       "_model_name": "HTMLModel",
       "_view_count": null,
       "_view_module": "@jupyter-widgets/controls",
       "_view_module_version": "1.5.0",
       "_view_name": "HTMLView",
       "description": "",
       "description_tooltip": null,
       "layout": "IPY_MODEL_31f38b7fc4fe430e9df57316f548362b",
       "placeholder": "​",
       "style": "IPY_MODEL_aee5cf1a672346bf91b63a9e7531b471",
       "value": "100%"
      }
     },
     "f1dbd105580d4a8298f49059a16957a4": {
      "model_module": "@jupyter-widgets/base",
      "model_module_version": "1.2.0",
      "model_name": "LayoutModel",
      "state": {
       "_model_module": "@jupyter-widgets/base",
       "_model_module_version": "1.2.0",
       "_model_name": "LayoutModel",
       "_view_count": null,
       "_view_module": "@jupyter-widgets/base",
       "_view_module_version": "1.2.0",
       "_view_name": "LayoutView",
       "align_content": null,
       "align_items": null,
       "align_self": null,
       "border": null,
       "bottom": null,
       "display": null,
       "flex": null,
       "flex_flow": null,
       "grid_area": null,
       "grid_auto_columns": null,
       "grid_auto_flow": null,
       "grid_auto_rows": null,
       "grid_column": null,
       "grid_gap": null,
       "grid_row": null,
       "grid_template_areas": null,
       "grid_template_columns": null,
       "grid_template_rows": null,
       "height": null,
       "justify_content": null,
       "justify_items": null,
       "left": null,
       "margin": null,
       "max_height": null,
       "max_width": null,
       "min_height": null,
       "min_width": null,
       "object_fit": null,
       "object_position": null,
       "order": null,
       "overflow": null,
       "overflow_x": null,
       "overflow_y": null,
       "padding": null,
       "right": null,
       "top": null,
       "visibility": null,
       "width": null
      }
     }
    },
    "version_major": 2,
    "version_minor": 0
   }
  }
 },
 "nbformat": 4,
 "nbformat_minor": 5
}